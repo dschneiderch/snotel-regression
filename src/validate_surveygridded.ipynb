{
 "cells": [
  {
   "cell_type": "code",
   "execution_count": 1,
   "metadata": {
    "collapsed": false
   },
   "outputs": [
    {
     "name": "stderr",
     "output_type": "stream",
     "text": [
      "Loading required package: sp\n",
      "Loading required package: foreach\n",
      "Loading required package: iterators\n",
      "Loading required package: parallel\n"
     ]
    }
   ],
   "source": [
    "setwd('/Volumes/Dominik/Documents/snotel-regression_project')\n",
    "# setwd('~/Documents/snotel-regression_project')\n",
    "library(raster)\n",
    "library(reshape2)\n",
    "library(plyr)\n",
    "library(ggplot2)\n",
    "library(doMC)\n",
    "library(RColorBrewer)"
   ]
  },
  {
   "cell_type": "code",
   "execution_count": 2,
   "metadata": {
    "collapsed": true
   },
   "outputs": [],
   "source": [
    "rswe='v3.1'\n",
    "covrange='idp1'\n",
    "fscaMatch='wofsca'\n",
    "scalesnotel='scale'\n",
    "cost='r2'\n",
    "dateflag='surveyvalidation'\n",
    "blending='unblended'\n",
    "style='real-time'\n",
    "gridding=''#_snodasgrid'\n",
    "postscaled=''#_postscaled'"
   ]
  },
  {
   "cell_type": "code",
   "execution_count": 3,
   "metadata": {
    "collapsed": false,
    "scrolled": true
   },
   "outputs": [],
   "source": [
    "swe=readRDS(file=paste0('data/spatialvalidation/',blending,'/',dateflag,'/',style,'/surveygriddedswe',gridding,'_rswe',rswe,'_',covrange,'_snotel',scalesnotel,postscaled,'_',cost,'_',fscaMatch,'.rds'))\n",
    "swe_all=swe\n",
    "cellcount=ddply(swe_all,.(model.type),function(dF) count(dF$cell))\n",
    "freqdf=dcast(cellcount,model.type~x,value.var='freq')\n",
    "ind=which(freqdf[1,2:ncol(freqdf)]<140)#about 278 30m cells in an 500m pixel #rows 1,2,3 will be the same\n",
    "cell2rm=as.numeric(colnames(freqdf)[-1][ind])\n",
    "ind2=which(freqdf[nrow(freqdf),2:ncol(freqdf)]<560)#about 1111 30m cells in 1km pixel #last row is snodas\n",
    "cell2rm2=as.numeric(colnames(freqdf)[-1][ind2])\n",
    "swe=subset(swe_all,(model.type!='SNODAS' & !(cell %in% cell2rm)) | (model.type=='SNODAS' & !(cell %in% cell2rm2)))\n",
    "swe$swe.model[swe$swe.model<0.001]=0"
   ]
  },
  {
   "cell_type": "code",
   "execution_count": 4,
   "metadata": {
    "collapsed": true
   },
   "outputs": [],
   "source": [
    "## define cost function\n",
    "docost=function(y,yhat,cost){\n",
    "if(cost=='mae') { #statistics to minimize\n",
    "          costfun<-function(y, yhat) mean(abs(yhat-y),na.rm=T)\n",
    "} else if(cost=='rmse') {\n",
    "          costfun<-function(y,yhat) sqrt(mean((yhat-y)^2,na.rm=T))\n",
    "} else if (cost=='relrmse'){\n",
    "          costfun<-function(y,yhat) sqrt(mean((yhat-y)^2,na.rm=T))/mean(y,na.rm=T)\n",
    "} else if (cost=='bias'){\n",
    "          costfun<-function(y,yhat) mean(yhat-y,na.rm=T)\n",
    "} else if (cost=='pctbias'){\n",
    "              costfun<-function(y,yhat) mean(yhat-y,na.rm=T)/mean(y,na.rm=T)*100\n",
    "          }\n",
    "              \n",
    "     costfun(y,yhat)\n",
    "}"
   ]
  },
  {
   "cell_type": "markdown",
   "metadata": {},
   "source": [
    "# Average observations within model cell"
   ]
  },
  {
   "cell_type": "code",
   "execution_count": 5,
   "metadata": {
    "collapsed": false
   },
   "outputs": [],
   "source": [
    "cellavg=ddply(swe,.(model.type,date,site,yr,mth,cell),function(dF){ \n",
    "    summarise(dF,\n",
    "            swe.obs.avg=mean(swe.obs,na.rm=T),#the cell number in swe represents the model cell number so there can be muliple obs cell values (30m)\n",
    "                                        # na.rm=F will average only for model pixels that are completely covered by observations, otherwise there can be overlap\n",
    "              swe.model=unique(swe.model))# there should only be one value for each cell\n",
    "    })"
   ]
  },
  {
   "cell_type": "markdown",
   "metadata": {},
   "source": [
    "# Green Lakes Valley"
   ]
  },
  {
   "cell_type": "markdown",
   "metadata": {},
   "source": [
    "## average rmse"
   ]
  },
  {
   "cell_type": "code",
   "execution_count": 55,
   "metadata": {
    "collapsed": false,
    "scrolled": false
   },
   "outputs": [
    {
     "data": {
      "text/html": [
       "<table>\n",
       "<thead><tr><th></th><th scope=col>model.type</th><th scope=col>rmse</th></tr></thead>\n",
       "<tbody>\n",
       "\t<tr><th scope=row>1</th><td>PHV</td><td>0.4720757</td></tr>\n",
       "\t<tr><th scope=row>2</th><td>PHVRCN</td><td>0.4397443</td></tr>\n",
       "\t<tr><th scope=row>3</th><td>RCN</td><td>0.4950087</td></tr>\n",
       "\t<tr><th scope=row>4</th><td>SNODAS</td><td>0.612666</td></tr>\n",
       "</tbody>\n",
       "</table>\n"
      ],
      "text/latex": [
       "\\begin{tabular}{r|ll}\n",
       "  & model.type & rmse\\\\\n",
       "\\hline\n",
       "\t1 & PHV & 0.4720757\\\\\n",
       "\t2 & PHVRCN & 0.4397443\\\\\n",
       "\t3 & RCN & 0.4950087\\\\\n",
       "\t4 & SNODAS & 0.612666\\\\\n",
       "\\end{tabular}\n"
      ],
      "text/plain": [
       "  model.type      rmse\n",
       "1        PHV 0.4720757\n",
       "2     PHVRCN 0.4397443\n",
       "3        RCN 0.4950087\n",
       "4     SNODAS 0.6126660"
      ]
     },
     "execution_count": 55,
     "metadata": {},
     "output_type": "execute_result"
    }
   ],
   "source": [
    "glvswe=subset(cellavg,site=='Green Lakes Valley')\n",
    "# glvswe\n",
    "objf='rmse'\n",
    "objcost=ddply(glvswe,.(model.type,date,site,yr,mth),function(dF){\n",
    "  cost=docost(dF$swe.obs.avg,dF$swe.model,objf)\n",
    "  data.frame(cost)\n",
    "})\n",
    "overallrmse=dcast(objcost,model.type~.,fun.aggregate=mean,na.rm=T,value.var='cost')\n",
    "colnames(overallrmse)[ncol(overallrmse)]=objf\n",
    "overallrmse"
   ]
  },
  {
   "cell_type": "markdown",
   "metadata": {},
   "source": [
    "## freq best model type"
   ]
  },
  {
   "cell_type": "code",
   "execution_count": 74,
   "metadata": {
    "collapsed": false
   },
   "outputs": [
    {
     "data": {
      "text/html": [
       "<table>\n",
       "<thead><tr><th></th><th scope=col>model.type</th><th scope=col>site</th><th scope=col>date</th><th scope=col>avg_cost</th></tr></thead>\n",
       "<tbody>\n",
       "\t<tr><th scope=row>1</th><td>PHV</td><td>Green Lakes Valley</td><td>2001-05-09</td><td>0.2775448</td></tr>\n",
       "\t<tr><th scope=row>2</th><td>PHV</td><td>Green Lakes Valley</td><td>2002-05-01</td><td>0.2087712</td></tr>\n",
       "\t<tr><th scope=row>3</th><td>PHV</td><td>Green Lakes Valley</td><td>2003-05-14</td><td>0.3189109</td></tr>\n",
       "\t<tr><th scope=row>4</th><td>PHV</td><td>Green Lakes Valley</td><td>2004-05-12</td><td>0.3219831</td></tr>\n",
       "\t<tr><th scope=row>5</th><td>PHV</td><td>Green Lakes Valley</td><td>2005-05-10</td><td>0.1734238</td></tr>\n",
       "\t<tr><th scope=row>6</th><td>PHV</td><td>Green Lakes Valley</td><td>2006-05-11</td><td>0.1922925</td></tr>\n",
       "\t<tr><th scope=row>7</th><td>PHV</td><td>Green Lakes Valley</td><td>2007-05-10</td><td>0.2465059</td></tr>\n",
       "\t<tr><th scope=row>8</th><td>PHVRCN</td><td>Green Lakes Valley</td><td>2001-05-09</td><td>0.1303036</td></tr>\n",
       "\t<tr><th scope=row>9</th><td>PHVRCN</td><td>Green Lakes Valley</td><td>2002-05-01</td><td>0.2283391</td></tr>\n",
       "\t<tr><th scope=row>10</th><td>PHVRCN</td><td>Green Lakes Valley</td><td>2003-05-14</td><td>0.1927775</td></tr>\n",
       "\t<tr><th scope=row>11</th><td>PHVRCN</td><td>Green Lakes Valley</td><td>2004-05-12</td><td>0.1427303</td></tr>\n",
       "\t<tr><th scope=row>12</th><td>PHVRCN</td><td>Green Lakes Valley</td><td>2005-05-10</td><td>0.4380337</td></tr>\n",
       "\t<tr><th scope=row>13</th><td>PHVRCN</td><td>Green Lakes Valley</td><td>2006-05-11</td><td>0.5031636</td></tr>\n",
       "\t<tr><th scope=row>14</th><td>PHVRCN</td><td>Green Lakes Valley</td><td>2007-05-10</td><td>0.2368652</td></tr>\n",
       "</tbody>\n",
       "</table>\n"
      ],
      "text/latex": [
       "\\begin{tabular}{r|llll}\n",
       "  & model.type & site & date & avg_cost\\\\\n",
       "\\hline\n",
       "\t1 & PHV & Green Lakes Valley & 2001-05-09 & 0.2775448\\\\\n",
       "\t2 & PHV & Green Lakes Valley & 2002-05-01 & 0.2087712\\\\\n",
       "\t3 & PHV & Green Lakes Valley & 2003-05-14 & 0.3189109\\\\\n",
       "\t4 & PHV & Green Lakes Valley & 2004-05-12 & 0.3219831\\\\\n",
       "\t5 & PHV & Green Lakes Valley & 2005-05-10 & 0.1734238\\\\\n",
       "\t6 & PHV & Green Lakes Valley & 2006-05-11 & 0.1922925\\\\\n",
       "\t7 & PHV & Green Lakes Valley & 2007-05-10 & 0.2465059\\\\\n",
       "\t8 & PHVRCN & Green Lakes Valley & 2001-05-09 & 0.1303036\\\\\n",
       "\t9 & PHVRCN & Green Lakes Valley & 2002-05-01 & 0.2283391\\\\\n",
       "\t10 & PHVRCN & Green Lakes Valley & 2003-05-14 & 0.1927775\\\\\n",
       "\t11 & PHVRCN & Green Lakes Valley & 2004-05-12 & 0.1427303\\\\\n",
       "\t12 & PHVRCN & Green Lakes Valley & 2005-05-10 & 0.4380337\\\\\n",
       "\t13 & PHVRCN & Green Lakes Valley & 2006-05-11 & 0.5031636\\\\\n",
       "\t14 & PHVRCN & Green Lakes Valley & 2007-05-10 & 0.2368652\\\\\n",
       "\\end{tabular}\n"
      ],
      "text/plain": [
       "   model.type               site       date  avg_cost\n",
       "1         PHV Green Lakes Valley 2001-05-09 0.2775448\n",
       "2         PHV Green Lakes Valley 2002-05-01 0.2087712\n",
       "3         PHV Green Lakes Valley 2003-05-14 0.3189109\n",
       "4         PHV Green Lakes Valley 2004-05-12 0.3219831\n",
       "5         PHV Green Lakes Valley 2005-05-10 0.1734238\n",
       "6         PHV Green Lakes Valley 2006-05-11 0.1922925\n",
       "7         PHV Green Lakes Valley 2007-05-10 0.2465059\n",
       "8      PHVRCN Green Lakes Valley 2001-05-09 0.1303036\n",
       "9      PHVRCN Green Lakes Valley 2002-05-01 0.2283391\n",
       "10     PHVRCN Green Lakes Valley 2003-05-14 0.1927775\n",
       "11     PHVRCN Green Lakes Valley 2004-05-12 0.1427303\n",
       "12     PHVRCN Green Lakes Valley 2005-05-10 0.4380337\n",
       "13     PHVRCN Green Lakes Valley 2006-05-11 0.5031636\n",
       "14     PHVRCN Green Lakes Valley 2007-05-10 0.2368652"
      ]
     },
     "execution_count": 74,
     "metadata": {},
     "output_type": "execute_result"
    },
    {
     "data": {
      "text/html": [
       "<table>\n",
       "<thead><tr><th></th><th scope=col>x</th><th scope=col>freq</th></tr></thead>\n",
       "<tbody>\n",
       "\t<tr><th scope=row>1</th><td>PHV</td><td>3</td></tr>\n",
       "\t<tr><th scope=row>2</th><td>PHVRCN</td><td>4</td></tr>\n",
       "</tbody>\n",
       "</table>\n"
      ],
      "text/latex": [
       "\\begin{tabular}{r|ll}\n",
       "  & x & freq\\\\\n",
       "\\hline\n",
       "\t1 & PHV & 3\\\\\n",
       "\t2 & PHVRCN & 4\\\\\n",
       "\\end{tabular}\n"
      ],
      "text/plain": [
       "       x freq\n",
       "1    PHV    3\n",
       "2 PHVRCN    4"
      ]
     },
     "execution_count": 74,
     "metadata": {},
     "output_type": "execute_result"
    }
   ],
   "source": [
    "# dcast(objcost,date+site+yr+mth~model.type,value.var='cost')\n",
    "cost.df=dcast(subset(objcost,model.type=='PHV' | model.type=='PHVRCN'),model.type+site+date~.,value.var='cost')\n",
    "colnames(cost.df)=c('model.type','site','date','avg_cost')\n",
    "cost.df\n",
    "bestcost=ddply(cost.df,.(site,date),function(dF){\n",
    "  as.character(dF$model.type[which.min(dF$avg_cost)])\n",
    "})\n",
    "# bestcost\n",
    "# tmpdf=cost.df[c(1,8),]\n",
    "#   as.character(tmpdf$model.type[which.min(tmpdf$avg_cost)])\n",
    "count(bestcost$V1)"
   ]
  },
  {
   "cell_type": "markdown",
   "metadata": {},
   "source": [
    "### freq with snodas"
   ]
  },
  {
   "cell_type": "code",
   "execution_count": 75,
   "metadata": {
    "collapsed": false
   },
   "outputs": [
    {
     "data": {
      "text/html": [
       "<table>\n",
       "<thead><tr><th></th><th scope=col>model.type</th><th scope=col>site</th><th scope=col>date</th><th scope=col>avg_cost</th></tr></thead>\n",
       "<tbody>\n",
       "\t<tr><th scope=row>1</th><td>PHV</td><td>Green Lakes Valley</td><td>2004-05-12</td><td>0.3219831</td></tr>\n",
       "\t<tr><th scope=row>2</th><td>PHV</td><td>Green Lakes Valley</td><td>2005-05-10</td><td>0.1734238</td></tr>\n",
       "\t<tr><th scope=row>3</th><td>PHV</td><td>Green Lakes Valley</td><td>2006-05-11</td><td>0.1922925</td></tr>\n",
       "\t<tr><th scope=row>4</th><td>PHV</td><td>Green Lakes Valley</td><td>2007-05-10</td><td>0.2465059</td></tr>\n",
       "\t<tr><th scope=row>5</th><td>PHVRCN</td><td>Green Lakes Valley</td><td>2004-05-12</td><td>0.1427303</td></tr>\n",
       "\t<tr><th scope=row>6</th><td>PHVRCN</td><td>Green Lakes Valley</td><td>2005-05-10</td><td>0.4380337</td></tr>\n",
       "\t<tr><th scope=row>7</th><td>PHVRCN</td><td>Green Lakes Valley</td><td>2006-05-11</td><td>0.5031636</td></tr>\n",
       "\t<tr><th scope=row>8</th><td>PHVRCN</td><td>Green Lakes Valley</td><td>2007-05-10</td><td>0.2368652</td></tr>\n",
       "\t<tr><th scope=row>9</th><td>RCN</td><td>Green Lakes Valley</td><td>2004-05-12</td><td>0.3447479</td></tr>\n",
       "\t<tr><th scope=row>10</th><td>RCN</td><td>Green Lakes Valley</td><td>2005-05-10</td><td>0.5015789</td></tr>\n",
       "\t<tr><th scope=row>11</th><td>RCN</td><td>Green Lakes Valley</td><td>2006-05-11</td><td>0.4546415</td></tr>\n",
       "\t<tr><th scope=row>12</th><td>RCN</td><td>Green Lakes Valley</td><td>2007-05-10</td><td>0.4768477</td></tr>\n",
       "\t<tr><th scope=row>13</th><td>SNODAS</td><td>Green Lakes Valley</td><td>2004-05-12</td><td>NaN</td></tr>\n",
       "\t<tr><th scope=row>14</th><td>SNODAS</td><td>Green Lakes Valley</td><td>2005-05-10</td><td>NaN</td></tr>\n",
       "\t<tr><th scope=row>15</th><td>SNODAS</td><td>Green Lakes Valley</td><td>2006-05-11</td><td>NaN</td></tr>\n",
       "\t<tr><th scope=row>16</th><td>SNODAS</td><td>Green Lakes Valley</td><td>2007-05-10</td><td>NaN</td></tr>\n",
       "</tbody>\n",
       "</table>\n"
      ],
      "text/latex": [
       "\\begin{tabular}{r|llll}\n",
       "  & model.type & site & date & avg_cost\\\\\n",
       "\\hline\n",
       "\t1 & PHV & Green Lakes Valley & 2004-05-12 & 0.3219831\\\\\n",
       "\t2 & PHV & Green Lakes Valley & 2005-05-10 & 0.1734238\\\\\n",
       "\t3 & PHV & Green Lakes Valley & 2006-05-11 & 0.1922925\\\\\n",
       "\t4 & PHV & Green Lakes Valley & 2007-05-10 & 0.2465059\\\\\n",
       "\t5 & PHVRCN & Green Lakes Valley & 2004-05-12 & 0.1427303\\\\\n",
       "\t6 & PHVRCN & Green Lakes Valley & 2005-05-10 & 0.4380337\\\\\n",
       "\t7 & PHVRCN & Green Lakes Valley & 2006-05-11 & 0.5031636\\\\\n",
       "\t8 & PHVRCN & Green Lakes Valley & 2007-05-10 & 0.2368652\\\\\n",
       "\t9 & RCN & Green Lakes Valley & 2004-05-12 & 0.3447479\\\\\n",
       "\t10 & RCN & Green Lakes Valley & 2005-05-10 & 0.5015789\\\\\n",
       "\t11 & RCN & Green Lakes Valley & 2006-05-11 & 0.4546415\\\\\n",
       "\t12 & RCN & Green Lakes Valley & 2007-05-10 & 0.4768477\\\\\n",
       "\t13 & SNODAS & Green Lakes Valley & 2004-05-12 & NaN\\\\\n",
       "\t14 & SNODAS & Green Lakes Valley & 2005-05-10 & NaN\\\\\n",
       "\t15 & SNODAS & Green Lakes Valley & 2006-05-11 & NaN\\\\\n",
       "\t16 & SNODAS & Green Lakes Valley & 2007-05-10 & NaN\\\\\n",
       "\\end{tabular}\n"
      ],
      "text/plain": [
       "   model.type               site       date  avg_cost\n",
       "1         PHV Green Lakes Valley 2004-05-12 0.3219831\n",
       "2         PHV Green Lakes Valley 2005-05-10 0.1734238\n",
       "3         PHV Green Lakes Valley 2006-05-11 0.1922925\n",
       "4         PHV Green Lakes Valley 2007-05-10 0.2465059\n",
       "5      PHVRCN Green Lakes Valley 2004-05-12 0.1427303\n",
       "6      PHVRCN Green Lakes Valley 2005-05-10 0.4380337\n",
       "7      PHVRCN Green Lakes Valley 2006-05-11 0.5031636\n",
       "8      PHVRCN Green Lakes Valley 2007-05-10 0.2368652\n",
       "9         RCN Green Lakes Valley 2004-05-12 0.3447479\n",
       "10        RCN Green Lakes Valley 2005-05-10 0.5015789\n",
       "11        RCN Green Lakes Valley 2006-05-11 0.4546415\n",
       "12        RCN Green Lakes Valley 2007-05-10 0.4768477\n",
       "13     SNODAS Green Lakes Valley 2004-05-12       NaN\n",
       "14     SNODAS Green Lakes Valley 2005-05-10       NaN\n",
       "15     SNODAS Green Lakes Valley 2006-05-11       NaN\n",
       "16     SNODAS Green Lakes Valley 2007-05-10       NaN"
      ]
     },
     "execution_count": 75,
     "metadata": {},
     "output_type": "execute_result"
    },
    {
     "data": {
      "text/html": [
       "<table>\n",
       "<thead><tr><th></th><th scope=col>site</th><th scope=col>date</th><th scope=col>V1</th></tr></thead>\n",
       "<tbody>\n",
       "\t<tr><th scope=row>1</th><td>Green Lakes Valley</td><td>2004-05-12</td><td>PHVRCN</td></tr>\n",
       "\t<tr><th scope=row>2</th><td>Green Lakes Valley</td><td>2005-05-10</td><td>PHV</td></tr>\n",
       "\t<tr><th scope=row>3</th><td>Green Lakes Valley</td><td>2006-05-11</td><td>PHV</td></tr>\n",
       "\t<tr><th scope=row>4</th><td>Green Lakes Valley</td><td>2007-05-10</td><td>PHVRCN</td></tr>\n",
       "</tbody>\n",
       "</table>\n"
      ],
      "text/latex": [
       "\\begin{tabular}{r|lll}\n",
       "  & site & date & V1\\\\\n",
       "\\hline\n",
       "\t1 & Green Lakes Valley & 2004-05-12 & PHVRCN\\\\\n",
       "\t2 & Green Lakes Valley & 2005-05-10 & PHV\\\\\n",
       "\t3 & Green Lakes Valley & 2006-05-11 & PHV\\\\\n",
       "\t4 & Green Lakes Valley & 2007-05-10 & PHVRCN\\\\\n",
       "\\end{tabular}\n"
      ],
      "text/plain": [
       "                site       date     V1\n",
       "1 Green Lakes Valley 2004-05-12 PHVRCN\n",
       "2 Green Lakes Valley 2005-05-10    PHV\n",
       "3 Green Lakes Valley 2006-05-11    PHV\n",
       "4 Green Lakes Valley 2007-05-10 PHVRCN"
      ]
     },
     "execution_count": 75,
     "metadata": {},
     "output_type": "execute_result"
    },
    {
     "data": {
      "text/html": [
       "<table>\n",
       "<thead><tr><th></th><th scope=col>x</th><th scope=col>freq</th></tr></thead>\n",
       "<tbody>\n",
       "\t<tr><th scope=row>1</th><td>PHV</td><td>2</td></tr>\n",
       "\t<tr><th scope=row>2</th><td>PHVRCN</td><td>2</td></tr>\n",
       "</tbody>\n",
       "</table>\n"
      ],
      "text/latex": [
       "\\begin{tabular}{r|ll}\n",
       "  & x & freq\\\\\n",
       "\\hline\n",
       "\t1 & PHV & 2\\\\\n",
       "\t2 & PHVRCN & 2\\\\\n",
       "\\end{tabular}\n"
      ],
      "text/plain": [
       "       x freq\n",
       "1    PHV    2\n",
       "2 PHVRCN    2"
      ]
     },
     "execution_count": 75,
     "metadata": {},
     "output_type": "execute_result"
    }
   ],
   "source": [
    "# dcast(objcost,date+site+yr+mth~model.type,value.var='cost')\n",
    "cost.df=dcast(subset(objcost,yr>2003),model.type+site+date~.,value.var='cost')\n",
    "colnames(cost.df)=c('model.type','site','date','avg_cost')\n",
    "cost.df\n",
    "bestcost=ddply(cost.df,.(site,date),function(dF){\n",
    "  as.character(dF$model.type[which.min(dF$avg_cost)])\n",
    "})\n",
    "bestcost\n",
    "count(bestcost$V1)"
   ]
  },
  {
   "cell_type": "markdown",
   "metadata": {
    "collapsed": true
   },
   "source": [
    "## average relative rmse"
   ]
  },
  {
   "cell_type": "code",
   "execution_count": 76,
   "metadata": {
    "collapsed": false,
    "scrolled": true
   },
   "outputs": [
    {
     "data": {
      "text/html": [
       "<table>\n",
       "<thead><tr><th></th><th scope=col>model.type</th><th scope=col>relrmse</th></tr></thead>\n",
       "<tbody>\n",
       "\t<tr><th scope=row>1</th><td>PHV</td><td>0.3589191</td></tr>\n",
       "\t<tr><th scope=row>2</th><td>PHVRCN</td><td>0.3849019</td></tr>\n",
       "\t<tr><th scope=row>3</th><td>RCN</td><td>0.6002207</td></tr>\n",
       "\t<tr><th scope=row>4</th><td>SNODAS</td><td>NaN</td></tr>\n",
       "</tbody>\n",
       "</table>\n"
      ],
      "text/latex": [
       "\\begin{tabular}{r|ll}\n",
       "  & model.type & relrmse\\\\\n",
       "\\hline\n",
       "\t1 & PHV & 0.3589191\\\\\n",
       "\t2 & PHVRCN & 0.3849019\\\\\n",
       "\t3 & RCN & 0.6002207\\\\\n",
       "\t4 & SNODAS & NaN\\\\\n",
       "\\end{tabular}\n"
      ],
      "text/plain": [
       "  model.type   relrmse\n",
       "1        PHV 0.3589191\n",
       "2     PHVRCN 0.3849019\n",
       "3        RCN 0.6002207\n",
       "4     SNODAS       NaN"
      ]
     },
     "execution_count": 76,
     "metadata": {},
     "output_type": "execute_result"
    }
   ],
   "source": [
    "glvswe=subset(cellavg,site=='Green Lakes Valley')\n",
    "objf='relrmse'\n",
    "objcost=ddply(glvswe,.(model.type,date,site,yr,mth),function(dF){\n",
    "  cost=docost(dF$swe.obs.avg,dF$swe.model,objf)\n",
    "  data.frame(cost)\n",
    "})\n",
    "overallrmse=dcast(objcost,model.type~.,fun.aggregate=mean,na.rm=T,value.var='cost')\n",
    "colnames(overallrmse)[ncol(overallrmse)]=objf\n",
    "overallrmse"
   ]
  },
  {
   "cell_type": "code",
   "execution_count": 77,
   "metadata": {
    "collapsed": false,
    "scrolled": false
   },
   "outputs": [
    {
     "data": {
      "text/html": [
       "<table>\n",
       "<thead><tr><th></th><th scope=col>model.type</th><th scope=col>pctbias</th></tr></thead>\n",
       "<tbody>\n",
       "\t<tr><th scope=row>1</th><td>PHV</td><td>-25.75625</td></tr>\n",
       "\t<tr><th scope=row>2</th><td>PHVRCN</td><td>31.69098</td></tr>\n",
       "\t<tr><th scope=row>3</th><td>RCN</td><td>-37.53135</td></tr>\n",
       "\t<tr><th scope=row>4</th><td>SNODAS</td><td>NaN</td></tr>\n",
       "</tbody>\n",
       "</table>\n"
      ],
      "text/latex": [
       "\\begin{tabular}{r|ll}\n",
       "  & model.type & pctbias\\\\\n",
       "\\hline\n",
       "\t1 & PHV & -25.75625\\\\\n",
       "\t2 & PHVRCN & 31.69098\\\\\n",
       "\t3 & RCN & -37.53135\\\\\n",
       "\t4 & SNODAS & NaN\\\\\n",
       "\\end{tabular}\n"
      ],
      "text/plain": [
       "  model.type   pctbias\n",
       "1        PHV -25.75625\n",
       "2     PHVRCN  31.69098\n",
       "3        RCN -37.53135\n",
       "4     SNODAS       NaN"
      ]
     },
     "execution_count": 77,
     "metadata": {},
     "output_type": "execute_result"
    }
   ],
   "source": [
    "objf='pctbias'\n",
    "glvswe=subset(cellavg,site=='Green Lakes Valley')\n",
    "objcost=ddply(glvswe,.(model.type,date,site,yr,mth),function(dF){ \n",
    "  cost=docost(dF$swe.obs.avg,dF$swe.model,objf)\n",
    "  data.frame(cost)\n",
    "})\n",
    "overall=dcast(objcost,model.type~.,fun.aggregate=mean,na.rm=T,value.var='cost')\n",
    "colnames(overall)[ncol(overall)]=objf\n",
    "overall"
   ]
  },
  {
   "cell_type": "markdown",
   "metadata": {},
   "source": [
    "# Forested Surveys"
   ]
  },
  {
   "cell_type": "markdown",
   "metadata": {},
   "source": [
    "## average rmse"
   ]
  },
  {
   "cell_type": "code",
   "execution_count": 56,
   "metadata": {
    "collapsed": false
   },
   "outputs": [
    {
     "data": {
      "text/html": [
       "<table>\n",
       "<thead><tr><th></th><th scope=col>model.type</th><th scope=col>rmse</th></tr></thead>\n",
       "<tbody>\n",
       "\t<tr><th scope=row>1</th><td>PHV</td><td>0.1851321</td></tr>\n",
       "\t<tr><th scope=row>2</th><td>PHVRCN</td><td>0.1671354</td></tr>\n",
       "\t<tr><th scope=row>3</th><td>RCN</td><td>0.2674632</td></tr>\n",
       "\t<tr><th scope=row>4</th><td>SNODAS</td><td>0.1252745</td></tr>\n",
       "</tbody>\n",
       "</table>\n"
      ],
      "text/latex": [
       "\\begin{tabular}{r|ll}\n",
       "  & model.type & rmse\\\\\n",
       "\\hline\n",
       "\t1 & PHV & 0.1851321\\\\\n",
       "\t2 & PHVRCN & 0.1671354\\\\\n",
       "\t3 & RCN & 0.2674632\\\\\n",
       "\t4 & SNODAS & 0.1252745\\\\\n",
       "\\end{tabular}\n"
      ],
      "text/plain": [
       "  model.type      rmse\n",
       "1        PHV 0.1851321\n",
       "2     PHVRCN 0.1671354\n",
       "3        RCN 0.2674632\n",
       "4     SNODAS 0.1252745"
      ]
     },
     "execution_count": 56,
     "metadata": {},
     "output_type": "execute_result"
    }
   ],
   "source": [
    "forestswe=subset(cellavg,site!='Green Lakes Valley')\n",
    "objf='rmse'\n",
    "objcost=ddply(forestswe,.(model.type,date,site,yr,mth),function(dF){\n",
    "  cost=docost(dF$swe.obs.avg,dF$swe.model,objf)\n",
    "  data.frame(cost)\n",
    "})\n",
    "overallrmse=dcast(objcost,model.type~.,fun.aggregate=mean,na.rm=T,value.var='cost')\n",
    "colnames(overallrmse)[ncol(overallrmse)]=objf\n",
    "overallrmse"
   ]
  },
  {
   "cell_type": "code",
   "execution_count": 7,
   "metadata": {
    "collapsed": false,
    "scrolled": true
   },
   "outputs": [
    {
     "data": {
      "text/html": [
       "<table>\n",
       "<thead><tr><th></th><th scope=col>model.type</th><th scope=col>relrmse</th></tr></thead>\n",
       "<tbody>\n",
       "\t<tr><th scope=row>1</th><td>PHV</td><td>0.554398</td></tr>\n",
       "\t<tr><th scope=row>2</th><td>PHVRCN</td><td>0.5130659</td></tr>\n",
       "\t<tr><th scope=row>3</th><td>RCN</td><td>0.7400316</td></tr>\n",
       "\t<tr><th scope=row>4</th><td>SNODAS</td><td>0.323514</td></tr>\n",
       "</tbody>\n",
       "</table>\n"
      ],
      "text/latex": [
       "\\begin{tabular}{r|ll}\n",
       "  & model.type & relrmse\\\\\n",
       "\\hline\n",
       "\t1 & PHV & 0.554398\\\\\n",
       "\t2 & PHVRCN & 0.5130659\\\\\n",
       "\t3 & RCN & 0.7400316\\\\\n",
       "\t4 & SNODAS & 0.323514\\\\\n",
       "\\end{tabular}\n"
      ],
      "text/plain": [
       "  model.type   relrmse\n",
       "1        PHV 0.5543980\n",
       "2     PHVRCN 0.5130659\n",
       "3        RCN 0.7400316\n",
       "4     SNODAS 0.3235140"
      ]
     },
     "execution_count": 7,
     "metadata": {},
     "output_type": "execute_result"
    }
   ],
   "source": [
    "forestswe=subset(cellavg,site!='Green Lakes Valley')\n",
    "# forestswe=subset(cellavg,site=='Niwot' | site=='Green Lakes Valley' | site=='Dry Lake' | site=='Joe Wright' | site=='South Brush Creek')\n",
    "objf='relrmse'\n",
    "objcost=ddply(forestswe,.(model.type,date,site,yr,mth),function(dF){\n",
    "  cost=docost(dF$swe.obs.avg,dF$swe.model,objf)\n",
    "  data.frame(cost)\n",
    "})\n",
    "overallrmse=dcast(objcost,model.type~.,fun.aggregate=mean,na.rm=T,value.var='cost')\n",
    "colnames(overallrmse)[ncol(overallrmse)]=objf\n",
    "overallrmse"
   ]
  },
  {
   "cell_type": "markdown",
   "metadata": {},
   "source": [
    "## freq best model type"
   ]
  },
  {
   "cell_type": "code",
   "execution_count": 8,
   "metadata": {
    "collapsed": false,
    "scrolled": false
   },
   "outputs": [
    {
     "data": {
      "text/html": [
       "<table>\n",
       "<thead><tr><th></th><th scope=col>x</th><th scope=col>freq</th></tr></thead>\n",
       "<tbody>\n",
       "\t<tr><th scope=row>1</th><td>PHV</td><td>8</td></tr>\n",
       "\t<tr><th scope=row>2</th><td>PHVRCN</td><td>14</td></tr>\n",
       "</tbody>\n",
       "</table>\n"
      ],
      "text/latex": [
       "\\begin{tabular}{r|ll}\n",
       "  & x & freq\\\\\n",
       "\\hline\n",
       "\t1 & PHV & 8\\\\\n",
       "\t2 & PHVRCN & 14\\\\\n",
       "\\end{tabular}\n"
      ],
      "text/plain": [
       "       x freq\n",
       "1    PHV    8\n",
       "2 PHVRCN   14"
      ]
     },
     "execution_count": 8,
     "metadata": {},
     "output_type": "execute_result"
    }
   ],
   "source": [
    "cost.df=dcast(subset(objcost,model.type=='PHV' | model.type=='PHVRCN'),model.type+site+date~.,value.var='cost')\n",
    "colnames(cost.df)=c('model.type','site','date','avg_cost')\n",
    "bestcost=ddply(cost.df,.(site,date),function(dF){\n",
    "  as.character(dF$model.type[which.min(dF$avg_cost)])\n",
    "})\n",
    "# bestcost\n",
    "count(bestcost$V1)"
   ]
  },
  {
   "cell_type": "code",
   "execution_count": 9,
   "metadata": {
    "collapsed": false,
    "scrolled": false
   },
   "outputs": [
    {
     "data": {
      "text/html": [
       "<table>\n",
       "<thead><tr><th></th><th scope=col>model.type</th><th scope=col>pctbias</th></tr></thead>\n",
       "<tbody>\n",
       "\t<tr><th scope=row>1</th><td>PHV</td><td>-6.395795</td></tr>\n",
       "\t<tr><th scope=row>2</th><td>PHVRCN</td><td>4.420913</td></tr>\n",
       "\t<tr><th scope=row>3</th><td>RCN</td><td>-41.12108</td></tr>\n",
       "\t<tr><th scope=row>4</th><td>SNODAS</td><td>-15.44504</td></tr>\n",
       "</tbody>\n",
       "</table>\n"
      ],
      "text/latex": [
       "\\begin{tabular}{r|ll}\n",
       "  & model.type & pctbias\\\\\n",
       "\\hline\n",
       "\t1 & PHV & -6.395795\\\\\n",
       "\t2 & PHVRCN & 4.420913\\\\\n",
       "\t3 & RCN & -41.12108\\\\\n",
       "\t4 & SNODAS & -15.44504\\\\\n",
       "\\end{tabular}\n"
      ],
      "text/plain": [
       "  model.type    pctbias\n",
       "1        PHV  -6.395795\n",
       "2     PHVRCN   4.420913\n",
       "3        RCN -41.121075\n",
       "4     SNODAS -15.445041"
      ]
     },
     "execution_count": 9,
     "metadata": {},
     "output_type": "execute_result"
    }
   ],
   "source": [
    "objf='pctbias'\n",
    "forestswe=subset(cellavg,site!='Green Lakes Valley')\n",
    "forestswe=subset(cellavg,site=='Niwot' | site=='Green Lakes Valley' | site=='Dry Lake' | site=='Joe Wright' | site=='South Brush Creek')\n",
    "objcost=ddply(forestswe,.(model.type,date,site,yr,mth),function(dF){ \n",
    "  cost=docost(dF$swe.obs.avg,dF$swe.model,objf)\n",
    "  data.frame(cost)\n",
    "})\n",
    "overall=dcast(objcost,model.type~.,fun.aggregate=mean,na.rm=T,value.var='cost')\n",
    "colnames(overall)[ncol(overall)]=objf\n",
    "overall"
   ]
  },
  {
   "cell_type": "markdown",
   "metadata": {},
   "source": [
    "# All sites"
   ]
  },
  {
   "cell_type": "markdown",
   "metadata": {},
   "source": [
    "## average rmse"
   ]
  },
  {
   "cell_type": "code",
   "execution_count": 57,
   "metadata": {
    "collapsed": false,
    "scrolled": false
   },
   "outputs": [
    {
     "data": {
      "text/html": [
       "<table>\n",
       "<thead><tr><th></th><th scope=col>model.type</th><th scope=col>rmse</th></tr></thead>\n",
       "<tbody>\n",
       "\t<tr><th scope=row>1</th><td>PHV</td><td>0.2543944</td></tr>\n",
       "\t<tr><th scope=row>2</th><td>PHVRCN</td><td>0.2329376</td></tr>\n",
       "\t<tr><th scope=row>3</th><td>RCN</td><td>0.3264565</td></tr>\n",
       "\t<tr><th scope=row>4</th><td>SNODAS</td><td>0.2335837</td></tr>\n",
       "</tbody>\n",
       "</table>\n"
      ],
      "text/latex": [
       "\\begin{tabular}{r|ll}\n",
       "  & model.type & rmse\\\\\n",
       "\\hline\n",
       "\t1 & PHV & 0.2543944\\\\\n",
       "\t2 & PHVRCN & 0.2329376\\\\\n",
       "\t3 & RCN & 0.3264565\\\\\n",
       "\t4 & SNODAS & 0.2335837\\\\\n",
       "\\end{tabular}\n"
      ],
      "text/plain": [
       "  model.type      rmse\n",
       "1        PHV 0.2543944\n",
       "2     PHVRCN 0.2329376\n",
       "3        RCN 0.3264565\n",
       "4     SNODAS 0.2335837"
      ]
     },
     "execution_count": 57,
     "metadata": {},
     "output_type": "execute_result"
    }
   ],
   "source": [
    "objf='rmse'\n",
    "objcost=ddply(cellavg,.(model.type,date,site,yr,mth),function(dF){  \n",
    "    cost=docost(dF$swe.obs.avg,dF$swe.model,objf)\n",
    "    data.frame(cost)\n",
    "})\n",
    "# objcost\n",
    "overallrmse=dcast(objcost,model.type~.,fun.aggregate=mean,na.rm=T,value.var='cost')\n",
    "colnames(overallrmse)[ncol(overallrmse)]=objf\n",
    "overallrmse\n",
    "# write.table(format(overallrmse,digits=1,trim=F,nsmall=2),paste0('graphs/rswe_',rswe,'/covrange',covrange,'/snotel',scalesnotel,'/',dateflag,'/',fscaMatch,'/boxplot_overallrmse_',blending,'models_vs_griddedobs_facet-datesite_',cost,'-rcnselect.txt'),sep='\\t',row.names=F,quote=F)"
   ]
  },
  {
   "cell_type": "markdown",
   "metadata": {},
   "source": [
    "## freq best model type"
   ]
  },
  {
   "cell_type": "code",
   "execution_count": 11,
   "metadata": {
    "collapsed": false
   },
   "outputs": [
    {
     "data": {
      "text/html": [
       "<table>\n",
       "<thead><tr><th></th><th scope=col>x</th><th scope=col>freq</th></tr></thead>\n",
       "<tbody>\n",
       "\t<tr><th scope=row>1</th><td>PHV</td><td>10</td></tr>\n",
       "\t<tr><th scope=row>2</th><td>PHVRCN</td><td>19</td></tr>\n",
       "</tbody>\n",
       "</table>\n"
      ],
      "text/latex": [
       "\\begin{tabular}{r|ll}\n",
       "  & x & freq\\\\\n",
       "\\hline\n",
       "\t1 & PHV & 10\\\\\n",
       "\t2 & PHVRCN & 19\\\\\n",
       "\\end{tabular}\n"
      ],
      "text/plain": [
       "       x freq\n",
       "1    PHV   10\n",
       "2 PHVRCN   19"
      ]
     },
     "execution_count": 11,
     "metadata": {},
     "output_type": "execute_result"
    }
   ],
   "source": [
    "cost.df=dcast(subset(objcost,model.type=='PHV' | model.type=='PHVRCN'),model.type+site+date~.,value.var='cost')\n",
    "colnames(cost.df)=c('model.type','site','date','avg_cost')\n",
    "# cost.df\n",
    "bestcost=ddply(cost.df,.(site,date),function(dF){\n",
    "  as.character(dF$model.type[which.min(dF$avg_cost)])\n",
    "})\n",
    "# bestcost\n",
    "count(bestcost$V1)"
   ]
  },
  {
   "cell_type": "markdown",
   "metadata": {},
   "source": [
    "## freq with snodas"
   ]
  },
  {
   "cell_type": "code",
   "execution_count": 12,
   "metadata": {
    "collapsed": false
   },
   "outputs": [
    {
     "data": {
      "text/html": [
       "<table>\n",
       "<thead><tr><th></th><th scope=col>x</th><th scope=col>freq</th></tr></thead>\n",
       "<tbody>\n",
       "\t<tr><th scope=row>1</th><td>PHV</td><td>4</td></tr>\n",
       "\t<tr><th scope=row>2</th><td>PHVRCN</td><td>5</td></tr>\n",
       "\t<tr><th scope=row>3</th><td>RCN</td><td>1</td></tr>\n",
       "\t<tr><th scope=row>4</th><td>SNODAS</td><td>8</td></tr>\n",
       "</tbody>\n",
       "</table>\n"
      ],
      "text/latex": [
       "\\begin{tabular}{r|ll}\n",
       "  & x & freq\\\\\n",
       "\\hline\n",
       "\t1 & PHV & 4\\\\\n",
       "\t2 & PHVRCN & 5\\\\\n",
       "\t3 & RCN & 1\\\\\n",
       "\t4 & SNODAS & 8\\\\\n",
       "\\end{tabular}\n"
      ],
      "text/plain": [
       "       x freq\n",
       "1    PHV    4\n",
       "2 PHVRCN    5\n",
       "3    RCN    1\n",
       "4 SNODAS    8"
      ]
     },
     "execution_count": 12,
     "metadata": {},
     "output_type": "execute_result"
    }
   ],
   "source": [
    "cost.df=dcast(subset(objcost,yr>2003),model.type+site+date~.,value.var='cost')\n",
    "colnames(cost.df)=c('model.type','site','date','avg_cost')\n",
    "#cost.df\n",
    "bestcost=ddply(cost.df,.(site,date),function(dF){\n",
    "  as.character(dF$model.type[which.min(dF$avg_cost)])\n",
    "})\n",
    "# bestcost\n",
    "count(bestcost$V1)"
   ]
  },
  {
   "cell_type": "markdown",
   "metadata": {},
   "source": [
    "*** why is relrmse for snodas lower than phv and phvrcn... should be similarly scaled?"
   ]
  },
  {
   "cell_type": "code",
   "execution_count": 13,
   "metadata": {
    "collapsed": false
   },
   "outputs": [
    {
     "data": {
      "text/html": [
       "<table>\n",
       "<thead><tr><th></th><th scope=col>model.type</th><th scope=col>relrmse</th></tr></thead>\n",
       "<tbody>\n",
       "\t<tr><th scope=row>1</th><td>PHV</td><td>0.5737897</td></tr>\n",
       "\t<tr><th scope=row>2</th><td>PHVRCN</td><td>0.5221732</td></tr>\n",
       "\t<tr><th scope=row>3</th><td>RCN</td><td>0.7190169</td></tr>\n",
       "\t<tr><th scope=row>4</th><td>SNODAS</td><td>0.4396692</td></tr>\n",
       "</tbody>\n",
       "</table>\n"
      ],
      "text/latex": [
       "\\begin{tabular}{r|ll}\n",
       "  & model.type & relrmse\\\\\n",
       "\\hline\n",
       "\t1 & PHV & 0.5737897\\\\\n",
       "\t2 & PHVRCN & 0.5221732\\\\\n",
       "\t3 & RCN & 0.7190169\\\\\n",
       "\t4 & SNODAS & 0.4396692\\\\\n",
       "\\end{tabular}\n"
      ],
      "text/plain": [
       "  model.type   relrmse\n",
       "1        PHV 0.5737897\n",
       "2     PHVRCN 0.5221732\n",
       "3        RCN 0.7190169\n",
       "4     SNODAS 0.4396692"
      ]
     },
     "execution_count": 13,
     "metadata": {},
     "output_type": "execute_result"
    }
   ],
   "source": [
    "objf='relrmse'\n",
    "objcost=ddply(cellavg,.(model.type,date,site,yr,mth),function(dF){\n",
    "  cost=docost(dF$swe.obs.avg,dF$swe.model,objf)\n",
    "  data.frame(cost)\n",
    "})\n",
    "overallrmse=dcast(objcost,model.type~.,fun.aggregate=mean,na.rm=T,value.var='cost')\n",
    "colnames(overallrmse)[ncol(overallrmse)]=objf\n",
    "overallrmse\n",
    "#write.table(format(overallrmse,digits=1,trim=F,nsmall=2),paste0('graphs/rswe_',rswe,'/covrange',covrange,'/snotel',scalesnotel,'/',dateflag,'/',fscaMatch,'/boxplot_overallrmse_',blending,'models_vs_griddedobs_facet-datesite_',cost,'-rcnselect.txt'),sep='\\t',row.names=F,quote=F)"
   ]
  },
  {
   "cell_type": "code",
   "execution_count": 14,
   "metadata": {
    "collapsed": false,
    "scrolled": false
   },
   "outputs": [
    {
     "data": {
      "text/html": [
       "<table>\n",
       "<thead><tr><th></th><th scope=col>model.type</th><th scope=col>bias</th></tr></thead>\n",
       "<tbody>\n",
       "\t<tr><th scope=row>1</th><td>PHV</td><td>-0.1089088</td></tr>\n",
       "\t<tr><th scope=row>2</th><td>PHVRCN</td><td>-0.03711871</td></tr>\n",
       "\t<tr><th scope=row>3</th><td>RCN</td><td>-0.2500732</td></tr>\n",
       "\t<tr><th scope=row>4</th><td>SNODAS</td><td>-0.1202049</td></tr>\n",
       "</tbody>\n",
       "</table>\n"
      ],
      "text/latex": [
       "\\begin{tabular}{r|ll}\n",
       "  & model.type & bias\\\\\n",
       "\\hline\n",
       "\t1 & PHV & -0.1089088\\\\\n",
       "\t2 & PHVRCN & -0.03711871\\\\\n",
       "\t3 & RCN & -0.2500732\\\\\n",
       "\t4 & SNODAS & -0.1202049\\\\\n",
       "\\end{tabular}\n"
      ],
      "text/plain": [
       "  model.type        bias\n",
       "1        PHV -0.10890882\n",
       "2     PHVRCN -0.03711871\n",
       "3        RCN -0.25007319\n",
       "4     SNODAS -0.12020486"
      ]
     },
     "execution_count": 14,
     "metadata": {},
     "output_type": "execute_result"
    }
   ],
   "source": [
    "objf='bias'\n",
    "objcost=ddply(cellavg,.(model.type,date,site,yr,mth),function(dF){ \n",
    "  cost=docost(dF$swe.obs.avg,dF$swe.model,objf)\n",
    "  data.frame(cost)\n",
    "})\n",
    "overall=dcast(objcost,model.type~.,fun.aggregate=mean,na.rm=T,value.var='cost')\n",
    "# dcast(objcost,model.type~.,fun.aggregate=mean,na.rm=T,value.var='cost')\n",
    "colnames(overall)[ncol(overall)]=objf\n",
    "overall\n"
   ]
  },
  {
   "cell_type": "markdown",
   "metadata": {},
   "source": [
    "### percent bias"
   ]
  },
  {
   "cell_type": "code",
   "execution_count": 17,
   "metadata": {
    "collapsed": false
   },
   "outputs": [
    {
     "data": {
      "text/html": [
       "<table>\n",
       "<thead><tr><th></th><th scope=col>date</th><th scope=col>site</th><th scope=col>PHV</th><th scope=col>PHVRCN</th><th scope=col>RCN</th><th scope=col>SNODAS</th></tr></thead>\n",
       "<tbody>\n",
       "\t<tr><th scope=row>1</th><td>2001-04-22</td><td>Slumgullion</td><td>38.97161</td><td>25.31923</td><td>-74.87865</td><td>NaN</td></tr>\n",
       "\t<tr><th scope=row>2</th><td>2001-04-23</td><td>Upper San Juan</td><td>-57.65358</td><td>-55.02342</td><td>-63.28773</td><td>NaN</td></tr>\n",
       "\t<tr><th scope=row>3</th><td>2001-04-24</td><td>Wolf Creek Summit</td><td>-56.9814</td><td>-55.73043</td><td>-64.83091</td><td>NaN</td></tr>\n",
       "\t<tr><th scope=row>4</th><td>2001-04-27</td><td>Lilly Pond</td><td>1.479039</td><td>-11.18001</td><td>-70.57077</td><td>NaN</td></tr>\n",
       "\t<tr><th scope=row>5</th><td>2001-05-09</td><td>Green Lakes Valley</td><td>-37.6953</td><td>-12.56368</td><td>-32.83079</td><td>NaN</td></tr>\n",
       "\t<tr><th scope=row>6</th><td>2002-04-03</td><td>Lilly Pond</td><td>29.53353</td><td>4.811711</td><td>-65.62258</td><td>NaN</td></tr>\n",
       "\t<tr><th scope=row>7</th><td>2002-04-04</td><td>Wolf Creek Summit</td><td>-19.56923</td><td>-4.351162</td><td>-91.71872</td><td>NaN</td></tr>\n",
       "\t<tr><th scope=row>8</th><td>2002-04-05</td><td>Upper San Juan</td><td>-17.06929</td><td>1.146475</td><td>-94.58599</td><td>NaN</td></tr>\n",
       "\t<tr><th scope=row>9</th><td>2002-04-06</td><td>Slumgullion</td><td>82.18698</td><td>65.28052</td><td>-71.25581</td><td>NaN</td></tr>\n",
       "\t<tr><th scope=row>10</th><td>2002-05-01</td><td>Green Lakes Valley</td><td>-51.39466</td><td>-5.24698</td><td>-41.40114</td><td>NaN</td></tr>\n",
       "\t<tr><th scope=row>11</th><td>2003-05-14</td><td>Green Lakes Valley</td><td>-41.88656</td><td>-6.224262</td><td>-23.82927</td><td>NaN</td></tr>\n",
       "\t<tr><th scope=row>12</th><td>2004-05-12</td><td>Green Lakes Valley</td><td>-65.13073</td><td>-26.58549</td><td>-40.97479</td><td>-53.04359</td></tr>\n",
       "\t<tr><th scope=row>13</th><td>2005-05-10</td><td>Green Lakes Valley</td><td>-15.80118</td><td>24.46582</td><td>-24.51388</td><td>-69.09068</td></tr>\n",
       "\t<tr><th scope=row>14</th><td>2006-05-11</td><td>Green Lakes Valley</td><td>-12.18663</td><td>52.6314</td><td>-50.53808</td><td>-71.31215</td></tr>\n",
       "\t<tr><th scope=row>15</th><td>2007-05-10</td><td>Green Lakes Valley</td><td>-39.69313</td><td>-2.611568</td><td>-63.72162</td><td>-57.68915</td></tr>\n",
       "\t<tr><th scope=row>16</th><td>2008-03-16</td><td>Lizard Head</td><td>-33.55364</td><td>-35.79609</td><td>-81.92587</td><td>13.4903</td></tr>\n",
       "\t<tr><th scope=row>17</th><td>2008-04-03</td><td>Joe Wright</td><td>27.92112</td><td>34.88536</td><td>-42.31751</td><td>12.81807</td></tr>\n",
       "\t<tr><th scope=row>18</th><td>2008-04-04</td><td>Dry Lake</td><td>-18.81081</td><td>-5.944015</td><td>-31.56369</td><td>10.64022</td></tr>\n",
       "\t<tr><th scope=row>19</th><td>2008-04-05</td><td>South Brush Creek</td><td>78.97086</td><td>42.83674</td><td>-41.07249</td><td>51.23934</td></tr>\n",
       "\t<tr><th scope=row>20</th><td>2008-04-07</td><td>Niwot</td><td>56.21</td><td>36.63568</td><td>-63.94157</td><td>-11.91132</td></tr>\n",
       "\t<tr><th scope=row>21</th><td>2008-05-01</td><td>Joe Wright</td><td>-12.9114</td><td>-10.00595</td><td>-64.74441</td><td>-25.58659</td></tr>\n",
       "\t<tr><th scope=row>22</th><td>2008-05-02</td><td>Dry Lake</td><td>-41.3234</td><td>-41.03223</td><td>-45.94816</td><td>-22.85829</td></tr>\n",
       "\t<tr><th scope=row>23</th><td>2008-05-05</td><td>Niwot</td><td>90.55575</td><td>70.23965</td><td>-43.9307</td><td>31.59268</td></tr>\n",
       "\t<tr><th scope=row>24</th><td>2009-02-28</td><td>Dry Lake</td><td>-31.69512</td><td>-29.21118</td><td>NaN</td><td>-19.35052</td></tr>\n",
       "\t<tr><th scope=row>25</th><td>2009-02-28</td><td>Joe Wright</td><td>-15.9079</td><td>-16.51731</td><td>NaN</td><td>0.9489775</td></tr>\n",
       "\t<tr><th scope=row>26</th><td>2009-03-06</td><td>Niwot</td><td>7.717398</td><td>2.251406</td><td>-0.751181</td><td>7.814663</td></tr>\n",
       "\t<tr><th scope=row>27</th><td>2009-03-28</td><td>Dry Lake</td><td>-23.06954</td><td>-10.18813</td><td>-41.21317</td><td>-30.5706</td></tr>\n",
       "\t<tr><th scope=row>28</th><td>2009-03-29</td><td>South Brush Creek</td><td>40.09484</td><td>6.70505</td><td>-21.44924</td><td>6.790612</td></tr>\n",
       "\t<tr><th scope=row>29</th><td>2009-05-02</td><td>Joe Wright</td><td>-21.87953</td><td>-16.10205</td><td>-65.43765</td><td>-22.99738</td></tr>\n",
       "</tbody>\n",
       "</table>\n"
      ],
      "text/latex": [
       "\\begin{tabular}{r|llllll}\n",
       "  & date & site & PHV & PHVRCN & RCN & SNODAS\\\\\n",
       "\\hline\n",
       "\t1 & 2001-04-22 & Slumgullion & 38.97161 & 25.31923 & -74.87865 & NaN\\\\\n",
       "\t2 & 2001-04-23 & Upper San Juan & -57.65358 & -55.02342 & -63.28773 & NaN\\\\\n",
       "\t3 & 2001-04-24 & Wolf Creek Summit & -56.9814 & -55.73043 & -64.83091 & NaN\\\\\n",
       "\t4 & 2001-04-27 & Lilly Pond & 1.479039 & -11.18001 & -70.57077 & NaN\\\\\n",
       "\t5 & 2001-05-09 & Green Lakes Valley & -37.6953 & -12.56368 & -32.83079 & NaN\\\\\n",
       "\t6 & 2002-04-03 & Lilly Pond & 29.53353 & 4.811711 & -65.62258 & NaN\\\\\n",
       "\t7 & 2002-04-04 & Wolf Creek Summit & -19.56923 & -4.351162 & -91.71872 & NaN\\\\\n",
       "\t8 & 2002-04-05 & Upper San Juan & -17.06929 & 1.146475 & -94.58599 & NaN\\\\\n",
       "\t9 & 2002-04-06 & Slumgullion & 82.18698 & 65.28052 & -71.25581 & NaN\\\\\n",
       "\t10 & 2002-05-01 & Green Lakes Valley & -51.39466 & -5.24698 & -41.40114 & NaN\\\\\n",
       "\t11 & 2003-05-14 & Green Lakes Valley & -41.88656 & -6.224262 & -23.82927 & NaN\\\\\n",
       "\t12 & 2004-05-12 & Green Lakes Valley & -65.13073 & -26.58549 & -40.97479 & -53.04359\\\\\n",
       "\t13 & 2005-05-10 & Green Lakes Valley & -15.80118 & 24.46582 & -24.51388 & -69.09068\\\\\n",
       "\t14 & 2006-05-11 & Green Lakes Valley & -12.18663 & 52.6314 & -50.53808 & -71.31215\\\\\n",
       "\t15 & 2007-05-10 & Green Lakes Valley & -39.69313 & -2.611568 & -63.72162 & -57.68915\\\\\n",
       "\t16 & 2008-03-16 & Lizard Head & -33.55364 & -35.79609 & -81.92587 & 13.4903\\\\\n",
       "\t17 & 2008-04-03 & Joe Wright & 27.92112 & 34.88536 & -42.31751 & 12.81807\\\\\n",
       "\t18 & 2008-04-04 & Dry Lake & -18.81081 & -5.944015 & -31.56369 & 10.64022\\\\\n",
       "\t19 & 2008-04-05 & South Brush Creek & 78.97086 & 42.83674 & -41.07249 & 51.23934\\\\\n",
       "\t20 & 2008-04-07 & Niwot & 56.21 & 36.63568 & -63.94157 & -11.91132\\\\\n",
       "\t21 & 2008-05-01 & Joe Wright & -12.9114 & -10.00595 & -64.74441 & -25.58659\\\\\n",
       "\t22 & 2008-05-02 & Dry Lake & -41.3234 & -41.03223 & -45.94816 & -22.85829\\\\\n",
       "\t23 & 2008-05-05 & Niwot & 90.55575 & 70.23965 & -43.9307 & 31.59268\\\\\n",
       "\t24 & 2009-02-28 & Dry Lake & -31.69512 & -29.21118 & NaN & -19.35052\\\\\n",
       "\t25 & 2009-02-28 & Joe Wright & -15.9079 & -16.51731 & NaN & 0.9489775\\\\\n",
       "\t26 & 2009-03-06 & Niwot & 7.717398 & 2.251406 & -0.751181 & 7.814663\\\\\n",
       "\t27 & 2009-03-28 & Dry Lake & -23.06954 & -10.18813 & -41.21317 & -30.5706\\\\\n",
       "\t28 & 2009-03-29 & South Brush Creek & 40.09484 & 6.70505 & -21.44924 & 6.790612\\\\\n",
       "\t29 & 2009-05-02 & Joe Wright & -21.87953 & -16.10205 & -65.43765 & -22.99738\\\\\n",
       "\\end{tabular}\n"
      ],
      "text/plain": [
       "         date               site        PHV     PHVRCN        RCN      SNODAS\n",
       "1  2001-04-22        Slumgullion  38.971606  25.319232 -74.878651         NaN\n",
       "2  2001-04-23     Upper San Juan -57.653585 -55.023420 -63.287729         NaN\n",
       "3  2001-04-24  Wolf Creek Summit -56.981397 -55.730432 -64.830908         NaN\n",
       "4  2001-04-27         Lilly Pond   1.479039 -11.180009 -70.570773         NaN\n",
       "5  2001-05-09 Green Lakes Valley -37.695300 -12.563681 -32.830790         NaN\n",
       "6  2002-04-03         Lilly Pond  29.533532   4.811711 -65.622583         NaN\n",
       "7  2002-04-04  Wolf Creek Summit -19.569226  -4.351162 -91.718718         NaN\n",
       "8  2002-04-05     Upper San Juan -17.069290   1.146475 -94.585988         NaN\n",
       "9  2002-04-06        Slumgullion  82.186980  65.280522 -71.255812         NaN\n",
       "10 2002-05-01 Green Lakes Valley -51.394661  -5.246980 -41.401141         NaN\n",
       "11 2003-05-14 Green Lakes Valley -41.886558  -6.224262 -23.829265         NaN\n",
       "12 2004-05-12 Green Lakes Valley -65.130728 -26.585489 -40.974793 -53.0435940\n",
       "13 2005-05-10 Green Lakes Valley -15.801176  24.465822 -24.513878 -69.0906751\n",
       "14 2006-05-11 Green Lakes Valley -12.186631  52.631397 -50.538083 -71.3121462\n",
       "15 2007-05-10 Green Lakes Valley -39.693131  -2.611568 -63.721620 -57.6891547\n",
       "16 2008-03-16        Lizard Head -33.553643 -35.796088 -81.925871  13.4902974\n",
       "17 2008-04-03         Joe Wright  27.921122  34.885363 -42.317511  12.8180670\n",
       "18 2008-04-04           Dry Lake -18.810806  -5.944015 -31.563692  10.6402217\n",
       "19 2008-04-05  South Brush Creek  78.970863  42.836744 -41.072489  51.2393450\n",
       "20 2008-04-07              Niwot  56.209997  36.635679 -63.941569 -11.9113231\n",
       "21 2008-05-01         Joe Wright -12.911397 -10.005952 -64.744408 -25.5865862\n",
       "22 2008-05-02           Dry Lake -41.323399 -41.032231 -45.948163 -22.8582905\n",
       "23 2008-05-05              Niwot  90.555746  70.239652 -43.930698  31.5926763\n",
       "24 2009-02-28           Dry Lake -31.695124 -29.211184        NaN -19.3505161\n",
       "25 2009-02-28         Joe Wright -15.907897 -16.517311        NaN   0.9489775\n",
       "26 2009-03-06              Niwot   7.717398   2.251406  -0.751181   7.8146629\n",
       "27 2009-03-28           Dry Lake -23.069537 -10.188127 -41.213173 -30.5705957\n",
       "28 2009-03-29  South Brush Creek  40.094839   6.705050 -21.449244   6.7906121\n",
       "29 2009-05-02         Joe Wright -21.879530 -16.102048 -65.437654 -22.9973752"
      ]
     },
     "execution_count": 17,
     "metadata": {},
     "output_type": "execute_result"
    }
   ],
   "source": [
    "objf='pctbias'\n",
    "objcost=ddply(cellavg,.(model.type,date,site,yr,mth),function(dF){ \n",
    "  cost=docost(dF$swe.obs.avg,dF$swe.model,objf)\n",
    "  data.frame(cost)\n",
    "})\n",
    "dcast(objcost,date+site~model.type,value.var='cost')"
   ]
  },
  {
   "cell_type": "code",
   "execution_count": 15,
   "metadata": {
    "collapsed": false,
    "scrolled": false
   },
   "outputs": [
    {
     "data": {
      "text/html": [
       "<table>\n",
       "<thead><tr><th></th><th scope=col>model.type</th><th scope=col>pctbias</th></tr></thead>\n",
       "<tbody>\n",
       "\t<tr><th scope=row>1</th><td>PHV</td><td>-5.536962</td></tr>\n",
       "\t<tr><th scope=row>2</th><td>PHVRCN</td><td>0.7894859</td></tr>\n",
       "\t<tr><th scope=row>3</th><td>RCN</td><td>-52.55024</td></tr>\n",
       "\t<tr><th scope=row>4</th><td>SNODAS</td><td>-13.83752</td></tr>\n",
       "</tbody>\n",
       "</table>\n"
      ],
      "text/latex": [
       "\\begin{tabular}{r|ll}\n",
       "  & model.type & pctbias\\\\\n",
       "\\hline\n",
       "\t1 & PHV & -5.536962\\\\\n",
       "\t2 & PHVRCN & 0.7894859\\\\\n",
       "\t3 & RCN & -52.55024\\\\\n",
       "\t4 & SNODAS & -13.83752\\\\\n",
       "\\end{tabular}\n"
      ],
      "text/plain": [
       "  model.type     pctbias\n",
       "1        PHV  -5.5369617\n",
       "2     PHVRCN   0.7894859\n",
       "3        RCN -52.5502365\n",
       "4     SNODAS -13.8375220"
      ]
     },
     "execution_count": 15,
     "metadata": {},
     "output_type": "execute_result"
    }
   ],
   "source": [
    "overall=dcast(objcost,model.type~.,fun.aggregate=mean,na.rm=T,value.var='cost')\n",
    "colnames(overall)[ncol(overall)]=objf\n",
    "overall"
   ]
  },
  {
   "cell_type": "markdown",
   "metadata": {},
   "source": [
    "# How does scale bias of SNOTEL affect regression at surveys?"
   ]
  },
  {
   "cell_type": "code",
   "execution_count": 40,
   "metadata": {
    "collapsed": false,
    "scrolled": false
   },
   "outputs": [
    {
     "data": {
      "text/html": [
       "<table>\n",
       "<thead><tr><th></th><th scope=col>yr</th><th scope=col>mth</th><th scope=col>PHV</th><th scope=col>PHVRCN</th><th scope=col>RCN</th><th scope=col>SNODAS</th></tr></thead>\n",
       "<tbody>\n",
       "\t<tr><th scope=row>1</th><td>2001</td><td>04</td><td>-7.876811</td><td>-14.36858</td><td>-68.64356</td><td>NaN</td></tr>\n",
       "\t<tr><th scope=row>2</th><td>2001</td><td>05</td><td>-27.70878</td><td>6.705067</td><td>-22.63572</td><td>NaN</td></tr>\n",
       "\t<tr><th scope=row>3</th><td>2002</td><td>04</td><td>67.13142</td><td>50.93984</td><td>-84.53579</td><td>NaN</td></tr>\n",
       "\t<tr><th scope=row>4</th><td>2002</td><td>05</td><td>-30.95311</td><td>80.2319</td><td>-43.10828</td><td>NaN</td></tr>\n",
       "\t<tr><th scope=row>5</th><td>2003</td><td>05</td><td>-32.59926</td><td>30.58215</td><td>-19.24805</td><td>NaN</td></tr>\n",
       "\t<tr><th scope=row>6</th><td>2004</td><td>05</td><td>-46.16943</td><td>8.195837</td><td>-36.75106</td><td>NaN</td></tr>\n",
       "\t<tr><th scope=row>7</th><td>2005</td><td>05</td><td>-7.919456</td><td>46.9134</td><td>-26.00171</td><td>NaN</td></tr>\n",
       "\t<tr><th scope=row>8</th><td>2006</td><td>05</td><td>-7.108841</td><td>110.735</td><td>-55.598</td><td>NaN</td></tr>\n",
       "\t<tr><th scope=row>9</th><td>2007</td><td>05</td><td>-27.83453</td><td>25.10015</td><td>-59.37663</td><td>NaN</td></tr>\n",
       "\t<tr><th scope=row>10</th><td>2008</td><td>03</td><td>-25.28541</td><td>-26.32497</td><td>-83.77556</td><td>15.02406</td></tr>\n",
       "\t<tr><th scope=row>11</th><td>2008</td><td>04</td><td>42.70852</td><td>35.41614</td><td>-44.64415</td><td>16.00382</td></tr>\n",
       "\t<tr><th scope=row>12</th><td>2008</td><td>05</td><td>20.30947</td><td>23.66957</td><td>-51.37396</td><td>-4.402805</td></tr>\n",
       "\t<tr><th scope=row>13</th><td>2009</td><td>02</td><td>-9.410404</td><td>4.665276</td><td>NaN</td><td>-9.310363</td></tr>\n",
       "\t<tr><th scope=row>14</th><td>2009</td><td>03</td><td>13.48255</td><td>7.742878</td><td>-19.95452</td><td>-5.765704</td></tr>\n",
       "\t<tr><th scope=row>15</th><td>2009</td><td>05</td><td>-10.38119</td><td>-6.19183</td><td>-65.32882</td><td>-22.99738</td></tr>\n",
       "</tbody>\n",
       "</table>\n"
      ],
      "text/latex": [
       "\\begin{tabular}{r|llllll}\n",
       "  & yr & mth & PHV & PHVRCN & RCN & SNODAS\\\\\n",
       "\\hline\n",
       "\t1 & 2001 & 04 & -7.876811 & -14.36858 & -68.64356 & NaN\\\\\n",
       "\t2 & 2001 & 05 & -27.70878 & 6.705067 & -22.63572 & NaN\\\\\n",
       "\t3 & 2002 & 04 & 67.13142 & 50.93984 & -84.53579 & NaN\\\\\n",
       "\t4 & 2002 & 05 & -30.95311 & 80.2319 & -43.10828 & NaN\\\\\n",
       "\t5 & 2003 & 05 & -32.59926 & 30.58215 & -19.24805 & NaN\\\\\n",
       "\t6 & 2004 & 05 & -46.16943 & 8.195837 & -36.75106 & NaN\\\\\n",
       "\t7 & 2005 & 05 & -7.919456 & 46.9134 & -26.00171 & NaN\\\\\n",
       "\t8 & 2006 & 05 & -7.108841 & 110.735 & -55.598 & NaN\\\\\n",
       "\t9 & 2007 & 05 & -27.83453 & 25.10015 & -59.37663 & NaN\\\\\n",
       "\t10 & 2008 & 03 & -25.28541 & -26.32497 & -83.77556 & 15.02406\\\\\n",
       "\t11 & 2008 & 04 & 42.70852 & 35.41614 & -44.64415 & 16.00382\\\\\n",
       "\t12 & 2008 & 05 & 20.30947 & 23.66957 & -51.37396 & -4.402805\\\\\n",
       "\t13 & 2009 & 02 & -9.410404 & 4.665276 & NaN & -9.310363\\\\\n",
       "\t14 & 2009 & 03 & 13.48255 & 7.742878 & -19.95452 & -5.765704\\\\\n",
       "\t15 & 2009 & 05 & -10.38119 & -6.19183 & -65.32882 & -22.99738\\\\\n",
       "\\end{tabular}\n"
      ],
      "text/plain": [
       "     yr mth        PHV     PHVRCN       RCN     SNODAS\n",
       "1  2001  04  -7.876811 -14.368585 -68.64356        NaN\n",
       "2  2001  05 -27.708781   6.705067 -22.63572        NaN\n",
       "3  2002  04  67.131417  50.939843 -84.53579        NaN\n",
       "4  2002  05 -30.953109  80.231902 -43.10828        NaN\n",
       "5  2003  05 -32.599262  30.582154 -19.24805        NaN\n",
       "6  2004  05 -46.169431   8.195837 -36.75106        NaN\n",
       "7  2005  05  -7.919456  46.913402 -26.00171        NaN\n",
       "8  2006  05  -7.108841 110.735033 -55.59800        NaN\n",
       "9  2007  05 -27.834530  25.100155 -59.37663        NaN\n",
       "10 2008  03 -25.285410 -26.324970 -83.77556  15.024061\n",
       "11 2008  04  42.708521  35.416145 -44.64415  16.003821\n",
       "12 2008  05  20.309467  23.669568 -51.37396  -4.402805\n",
       "13 2009  02  -9.410404   4.665276       NaN  -9.310363\n",
       "14 2009  03  13.482551   7.742878 -19.95452  -5.765704\n",
       "15 2009  05 -10.381187  -6.191830 -65.32882 -22.997375"
      ]
     },
     "execution_count": 40,
     "metadata": {},
     "output_type": "execute_result"
    },
    {
     "data": {
      "text/html": [
       "<table>\n",
       "<thead><tr><th></th><th scope=col>site</th><th scope=col>date</th><th scope=col>PHV</th><th scope=col>PHVRCN</th><th scope=col>RCN</th><th scope=col>SNODAS</th></tr></thead>\n",
       "<tbody>\n",
       "\t<tr><th scope=row>1</th><td>Dry Lake</td><td>2008-04-04</td><td>-13.17655</td><td>-4.686605</td><td>-31.52885</td><td>10.38535</td></tr>\n",
       "\t<tr><th scope=row>2</th><td>Dry Lake</td><td>2008-05-02</td><td>-36.25686</td><td>-11.83329</td><td>-45.8427</td><td>-23.85934</td></tr>\n",
       "\t<tr><th scope=row>3</th><td>Dry Lake</td><td>2009-02-28</td><td>-25.09753</td><td>-4.902132</td><td>NaN</td><td>-19.5697</td></tr>\n",
       "\t<tr><th scope=row>4</th><td>Dry Lake</td><td>2009-03-28</td><td>-23.07472</td><td>-18.67145</td><td>-41.19789</td><td>-31.24869</td></tr>\n",
       "\t<tr><th scope=row>5</th><td>Green Lakes Valley</td><td>2001-05-09</td><td>-27.70878</td><td>6.705067</td><td>-22.63572</td><td>NaN</td></tr>\n",
       "\t<tr><th scope=row>6</th><td>Green Lakes Valley</td><td>2002-05-01</td><td>-30.95311</td><td>80.2319</td><td>-43.10828</td><td>NaN</td></tr>\n",
       "\t<tr><th scope=row>7</th><td>Green Lakes Valley</td><td>2003-05-14</td><td>-32.59926</td><td>30.58215</td><td>-19.24805</td><td>NaN</td></tr>\n",
       "\t<tr><th scope=row>8</th><td>Green Lakes Valley</td><td>2004-05-12</td><td>-46.16943</td><td>8.195837</td><td>-36.75106</td><td>NaN</td></tr>\n",
       "\t<tr><th scope=row>9</th><td>Green Lakes Valley</td><td>2005-05-10</td><td>-7.919456</td><td>46.9134</td><td>-26.00171</td><td>NaN</td></tr>\n",
       "\t<tr><th scope=row>10</th><td>Green Lakes Valley</td><td>2006-05-11</td><td>-7.108841</td><td>110.735</td><td>-55.598</td><td>NaN</td></tr>\n",
       "\t<tr><th scope=row>11</th><td>Green Lakes Valley</td><td>2007-05-10</td><td>-27.83453</td><td>25.10015</td><td>-59.37663</td><td>NaN</td></tr>\n",
       "\t<tr><th scope=row>12</th><td>Joe Wright</td><td>2008-04-03</td><td>33.81221</td><td>29.20482</td><td>-41.76427</td><td>12.81807</td></tr>\n",
       "\t<tr><th scope=row>13</th><td>Joe Wright</td><td>2008-05-01</td><td>-7.591572</td><td>-0.04807345</td><td>-64.51151</td><td>-25.58659</td></tr>\n",
       "\t<tr><th scope=row>14</th><td>Joe Wright</td><td>2009-02-28</td><td>6.276718</td><td>14.23269</td><td>NaN</td><td>0.9489775</td></tr>\n",
       "\t<tr><th scope=row>15</th><td>Joe Wright</td><td>2009-05-02</td><td>-10.38119</td><td>-6.19183</td><td>-65.32882</td><td>-22.99738</td></tr>\n",
       "\t<tr><th scope=row>16</th><td>Lilly Pond</td><td>2001-04-27</td><td>13.39098</td><td>0.9675417</td><td>-70.16596</td><td>NaN</td></tr>\n",
       "\t<tr><th scope=row>17</th><td>Lilly Pond</td><td>2002-04-03</td><td>71.23472</td><td>39.13637</td><td>-82.89099</td><td>NaN</td></tr>\n",
       "\t<tr><th scope=row>18</th><td>Lizard Head</td><td>2008-03-16</td><td>-25.28541</td><td>-26.32497</td><td>-83.77556</td><td>15.02406</td></tr>\n",
       "\t<tr><th scope=row>19</th><td>Niwot</td><td>2008-04-07</td><td>62.32205</td><td>46.14753</td><td>-63.85965</td><td>-10.42748</td></tr>\n",
       "\t<tr><th scope=row>20</th><td>Niwot</td><td>2008-05-05</td><td>104.7768</td><td>82.89007</td><td>-43.76767</td><td>36.23751</td></tr>\n",
       "\t<tr><th scope=row>21</th><td>Niwot</td><td>2009-03-06</td><td>18.50221</td><td>16.58792</td><td>1.390402</td><td>9.657194</td></tr>\n",
       "\t<tr><th scope=row>22</th><td>Slumgullion</td><td>2001-04-22</td><td>62.24057</td><td>44.01592</td><td>-74.80526</td><td>NaN</td></tr>\n",
       "\t<tr><th scope=row>23</th><td>Slumgullion</td><td>2002-04-06</td><td>185.9509</td><td>123.4948</td><td>-69.69421</td><td>NaN</td></tr>\n",
       "\t<tr><th scope=row>24</th><td>South Brush Creek</td><td>2008-04-05</td><td>87.87637</td><td>70.99883</td><td>-41.42383</td><td>51.23934</td></tr>\n",
       "\t<tr><th scope=row>25</th><td>South Brush Creek</td><td>2009-03-29</td><td>45.02016</td><td>25.31216</td><td>-20.05607</td><td>4.294385</td></tr>\n",
       "\t<tr><th scope=row>26</th><td>Upper San Juan</td><td>2001-04-23</td><td>-53.91477</td><td>-51.02246</td><td>-63.79291</td><td>NaN</td></tr>\n",
       "\t<tr><th scope=row>27</th><td>Upper San Juan</td><td>2002-04-05</td><td>4.988222</td><td>17.49153</td><td>-94.7995</td><td>NaN</td></tr>\n",
       "\t<tr><th scope=row>28</th><td>Wolf Creek Summit</td><td>2001-04-24</td><td>-53.22402</td><td>-51.43534</td><td>-65.81011</td><td>NaN</td></tr>\n",
       "\t<tr><th scope=row>29</th><td>Wolf Creek Summit</td><td>2002-04-04</td><td>6.351839</td><td>23.63663</td><td>-90.75846</td><td>NaN</td></tr>\n",
       "</tbody>\n",
       "</table>\n"
      ],
      "text/latex": [
       "\\begin{tabular}{r|llllll}\n",
       "  & site & date & PHV & PHVRCN & RCN & SNODAS\\\\\n",
       "\\hline\n",
       "\t1 & Dry Lake & 2008-04-04 & -13.17655 & -4.686605 & -31.52885 & 10.38535\\\\\n",
       "\t2 & Dry Lake & 2008-05-02 & -36.25686 & -11.83329 & -45.8427 & -23.85934\\\\\n",
       "\t3 & Dry Lake & 2009-02-28 & -25.09753 & -4.902132 & NaN & -19.5697\\\\\n",
       "\t4 & Dry Lake & 2009-03-28 & -23.07472 & -18.67145 & -41.19789 & -31.24869\\\\\n",
       "\t5 & Green Lakes Valley & 2001-05-09 & -27.70878 & 6.705067 & -22.63572 & NaN\\\\\n",
       "\t6 & Green Lakes Valley & 2002-05-01 & -30.95311 & 80.2319 & -43.10828 & NaN\\\\\n",
       "\t7 & Green Lakes Valley & 2003-05-14 & -32.59926 & 30.58215 & -19.24805 & NaN\\\\\n",
       "\t8 & Green Lakes Valley & 2004-05-12 & -46.16943 & 8.195837 & -36.75106 & NaN\\\\\n",
       "\t9 & Green Lakes Valley & 2005-05-10 & -7.919456 & 46.9134 & -26.00171 & NaN\\\\\n",
       "\t10 & Green Lakes Valley & 2006-05-11 & -7.108841 & 110.735 & -55.598 & NaN\\\\\n",
       "\t11 & Green Lakes Valley & 2007-05-10 & -27.83453 & 25.10015 & -59.37663 & NaN\\\\\n",
       "\t12 & Joe Wright & 2008-04-03 & 33.81221 & 29.20482 & -41.76427 & 12.81807\\\\\n",
       "\t13 & Joe Wright & 2008-05-01 & -7.591572 & -0.04807345 & -64.51151 & -25.58659\\\\\n",
       "\t14 & Joe Wright & 2009-02-28 & 6.276718 & 14.23269 & NaN & 0.9489775\\\\\n",
       "\t15 & Joe Wright & 2009-05-02 & -10.38119 & -6.19183 & -65.32882 & -22.99738\\\\\n",
       "\t16 & Lilly Pond & 2001-04-27 & 13.39098 & 0.9675417 & -70.16596 & NaN\\\\\n",
       "\t17 & Lilly Pond & 2002-04-03 & 71.23472 & 39.13637 & -82.89099 & NaN\\\\\n",
       "\t18 & Lizard Head & 2008-03-16 & -25.28541 & -26.32497 & -83.77556 & 15.02406\\\\\n",
       "\t19 & Niwot & 2008-04-07 & 62.32205 & 46.14753 & -63.85965 & -10.42748\\\\\n",
       "\t20 & Niwot & 2008-05-05 & 104.7768 & 82.89007 & -43.76767 & 36.23751\\\\\n",
       "\t21 & Niwot & 2009-03-06 & 18.50221 & 16.58792 & 1.390402 & 9.657194\\\\\n",
       "\t22 & Slumgullion & 2001-04-22 & 62.24057 & 44.01592 & -74.80526 & NaN\\\\\n",
       "\t23 & Slumgullion & 2002-04-06 & 185.9509 & 123.4948 & -69.69421 & NaN\\\\\n",
       "\t24 & South Brush Creek & 2008-04-05 & 87.87637 & 70.99883 & -41.42383 & 51.23934\\\\\n",
       "\t25 & South Brush Creek & 2009-03-29 & 45.02016 & 25.31216 & -20.05607 & 4.294385\\\\\n",
       "\t26 & Upper San Juan & 2001-04-23 & -53.91477 & -51.02246 & -63.79291 & NaN\\\\\n",
       "\t27 & Upper San Juan & 2002-04-05 & 4.988222 & 17.49153 & -94.7995 & NaN\\\\\n",
       "\t28 & Wolf Creek Summit & 2001-04-24 & -53.22402 & -51.43534 & -65.81011 & NaN\\\\\n",
       "\t29 & Wolf Creek Summit & 2002-04-04 & 6.351839 & 23.63663 & -90.75846 & NaN\\\\\n",
       "\\end{tabular}\n"
      ],
      "text/plain": [
       "                 site       date        PHV       PHVRCN        RCN      SNODAS\n",
       "1            Dry Lake 2008-04-04 -13.176553  -4.68660492 -31.528852  10.3853526\n",
       "2            Dry Lake 2008-05-02 -36.256861 -11.83329195 -45.842701 -23.8593367\n",
       "3            Dry Lake 2009-02-28 -25.097526  -4.90213247        NaN -19.5697033\n",
       "4            Dry Lake 2009-03-28 -23.074724 -18.67145163 -41.197887 -31.2486898\n",
       "5  Green Lakes Valley 2001-05-09 -27.708781   6.70506747 -22.635721         NaN\n",
       "6  Green Lakes Valley 2002-05-01 -30.953109  80.23190155 -43.108278         NaN\n",
       "7  Green Lakes Valley 2003-05-14 -32.599262  30.58215362 -19.248052         NaN\n",
       "8  Green Lakes Valley 2004-05-12 -46.169431   8.19583736 -36.751055         NaN\n",
       "9  Green Lakes Valley 2005-05-10  -7.919456  46.91340218 -26.001712         NaN\n",
       "10 Green Lakes Valley 2006-05-11  -7.108841 110.73503328 -55.597997         NaN\n",
       "11 Green Lakes Valley 2007-05-10 -27.834530  25.10015491 -59.376634         NaN\n",
       "12         Joe Wright 2008-04-03  33.812212  29.20482126 -41.764269  12.8180670\n",
       "13         Joe Wright 2008-05-01  -7.591572  -0.04807345 -64.511514 -25.5865862\n",
       "14         Joe Wright 2009-02-28   6.276718  14.23268505        NaN   0.9489775\n",
       "15         Joe Wright 2009-05-02 -10.381187  -6.19182968 -65.328823 -22.9973752\n",
       "16         Lilly Pond 2001-04-27  13.390981   0.96754168 -70.165959         NaN\n",
       "17         Lilly Pond 2002-04-03  71.234717  39.13636650 -82.890990         NaN\n",
       "18        Lizard Head 2008-03-16 -25.285410 -26.32497017 -83.775563  15.0240613\n",
       "19              Niwot 2008-04-07  62.322050  46.14753468 -63.859651 -10.4274824\n",
       "20              Niwot 2008-05-05 104.776834  82.89007027 -43.767665  36.2375081\n",
       "21              Niwot 2009-03-06  18.502211  16.58792382   1.390402   9.6571939\n",
       "22        Slumgullion 2001-04-22  62.240572  44.01592122 -74.805265         NaN\n",
       "23        Slumgullion 2002-04-06 185.950889 123.49484581 -69.694210         NaN\n",
       "24  South Brush Creek 2008-04-05  87.876374  70.99882782 -41.423833  51.2393450\n",
       "25  South Brush Creek 2009-03-29  45.020164  25.31216329 -20.056071   4.2943849\n",
       "26     Upper San Juan 2001-04-23 -53.914775 -51.02245862 -63.792912         NaN\n",
       "27     Upper San Juan 2002-04-05   4.988222  17.49153359 -94.799497         NaN\n",
       "28  Wolf Creek Summit 2001-04-24 -53.224021 -51.43534312 -65.810114         NaN\n",
       "29  Wolf Creek Summit 2002-04-04   6.351839  23.63662625 -90.758456         NaN"
      ]
     },
     "execution_count": 40,
     "metadata": {},
     "output_type": "execute_result"
    }
   ],
   "source": [
    "dcast(objcost,yr+mth~model.type,value.var='cost',fun.agg=mean,na.rm=T)\n",
    "# phv=c(-1,32,33,3)\n",
    "# phvrcn=c(-7,25,24,-5)\n",
    "# snotel=c(17,65,-3,23)\n",
    "# cor(phv,snotel,method='spearman')\n",
    "# cor(phvrcn,snotel,method='spearman')\n",
    "dcast(objcost,site+date~model.type,value.var='cost')"
   ]
  },
  {
   "cell_type": "markdown",
   "metadata": {},
   "source": [
    "### avg pct bias at other snotel surveys the same week as each survey"
   ]
  },
  {
   "cell_type": "code",
   "execution_count": 59,
   "metadata": {
    "collapsed": false,
    "scrolled": false
   },
   "outputs": [
    {
     "data": {
      "text/html": [
       "<table>\n",
       "<thead><tr><th></th><th scope=col>site</th><th scope=col>date</th><th scope=col>PHV</th><th scope=col>PHVRCN</th><th scope=col>RCN</th><th scope=col>SNODAS</th></tr></thead>\n",
       "<tbody>\n",
       "\t<tr><th scope=row>1</th><td>Slumgullion</td><td>2001-04-22</td><td>-36.9415</td><td>-39.96884</td><td>-66.58966</td><td>NaN</td></tr>\n",
       "\t<tr><th scope=row>2</th><td>Slumgullion</td><td>2002-04-06</td><td>-4.294667</td><td>-1.288593</td><td>-89.48298</td><td>NaN</td></tr>\n",
       "\t<tr><th scope=row>3</th><td>Upper San Juan</td><td>2001-04-23</td><td>-4.702842</td><td>-13.15699</td><td>-70.26045</td><td>NaN</td></tr>\n",
       "\t<tr><th scope=row>4</th><td>Upper San Juan</td><td>2002-04-05</td><td>31.56377</td><td>22.55747</td><td>-81.11455</td><td>NaN</td></tr>\n",
       "\t<tr><th scope=row>5</th><td>Wolf Creek Summit</td><td>2001-04-24</td><td>-4.866326</td><td>-12.86519</td><td>-69.58805</td><td>NaN</td></tr>\n",
       "\t<tr><th scope=row>6</th><td>Wolf Creek Summit</td><td>2002-04-04</td><td>31.23915</td><td>23.00495</td><td>-82.46157</td><td>NaN</td></tr>\n",
       "\t<tr><th scope=row>7</th><td>Lilly Pond</td><td>2001-04-27</td><td>-25.34167</td><td>-28.59833</td><td>-68.1361</td><td>NaN</td></tr>\n",
       "\t<tr><th scope=row>8</th><td>Lilly Pond</td><td>2002-04-03</td><td>17.85057</td><td>22.65651</td><td>-85.08405</td><td>NaN</td></tr>\n",
       "\t<tr><th scope=row>9</th><td>Green Lakes Valley</td><td>2001-05-09</td><td>NaN</td><td>NaN</td><td>NaN</td><td>NaN</td></tr>\n",
       "\t<tr><th scope=row>10</th><td>Green Lakes Valley</td><td>2002-05-01</td><td>NaN</td><td>NaN</td><td>NaN</td><td>NaN</td></tr>\n",
       "\t<tr><th scope=row>11</th><td>Green Lakes Valley</td><td>2003-05-14</td><td>NaN</td><td>NaN</td><td>NaN</td><td>NaN</td></tr>\n",
       "\t<tr><th scope=row>12</th><td>Green Lakes Valley</td><td>2004-05-12</td><td>NaN</td><td>NaN</td><td>NaN</td><td>NaN</td></tr>\n",
       "\t<tr><th scope=row>13</th><td>Green Lakes Valley</td><td>2005-05-10</td><td>NaN</td><td>NaN</td><td>NaN</td><td>NaN</td></tr>\n",
       "\t<tr><th scope=row>14</th><td>Green Lakes Valley</td><td>2006-05-11</td><td>NaN</td><td>NaN</td><td>NaN</td><td>NaN</td></tr>\n",
       "\t<tr><th scope=row>15</th><td>Green Lakes Valley</td><td>2007-05-10</td><td>NaN</td><td>NaN</td><td>NaN</td><td>NaN</td></tr>\n",
       "\t<tr><th scope=row>16</th><td>Lizard Head</td><td>2008-03-16</td><td>NaN</td><td>NaN</td><td>NaN</td><td>NaN</td></tr>\n",
       "\t<tr><th scope=row>17</th><td>Joe Wright</td><td>2008-04-03</td><td>38.71434</td><td>30.07216</td><td>-45.60411</td><td>17.06574</td></tr>\n",
       "\t<tr><th scope=row>18</th><td>Joe Wright</td><td>2008-05-01</td><td>24.35453</td><td>25.68998</td><td>-44.80518</td><td>6.189086</td></tr>\n",
       "\t<tr><th scope=row>19</th><td>Joe Wright</td><td>2009-02-28</td><td>-31.68997</td><td>-14.78426</td><td>NaN</td><td>-19.5697</td></tr>\n",
       "\t<tr><th scope=row>20</th><td>Joe Wright</td><td>2009-05-02</td><td>NaN</td><td>NaN</td><td>NaN</td><td>NaN</td></tr>\n",
       "\t<tr><th scope=row>21</th><td>Dry Lake</td><td>2008-04-04</td><td>54.29182</td><td>41.3127</td><td>-49.01592</td><td>17.87664</td></tr>\n",
       "\t<tr><th scope=row>22</th><td>Dry Lake</td><td>2008-05-02</td><td>38.5465</td><td>31.03672</td><td>-54.13959</td><td>5.325461</td></tr>\n",
       "\t<tr><th scope=row>23</th><td>Dry Lake</td><td>2009-02-28</td><td>-16.24042</td><td>-7.114857</td><td>NaN</td><td>0.9489775</td></tr>\n",
       "\t<tr><th scope=row>24</th><td>Dry Lake</td><td>2009-03-28</td><td>24.29118</td><td>12.06858</td><td>-9.332834</td><td>6.975789</td></tr>\n",
       "\t<tr><th scope=row>25</th><td>South Brush Creek</td><td>2008-04-05</td><td>21.51743</td><td>17.22926</td><td>-45.71759</td><td>4.258646</td></tr>\n",
       "\t<tr><th scope=row>26</th><td>South Brush Creek</td><td>2009-03-29</td><td>-7.07095</td><td>-6.27482</td><td>-19.90374</td><td>-10.79575</td></tr>\n",
       "\t<tr><th scope=row>27</th><td>Niwot</td><td>2008-04-07</td><td>29.53286</td><td>24.94397</td><td>-38.23898</td><td>24.81425</td></tr>\n",
       "\t<tr><th scope=row>28</th><td>Niwot</td><td>2008-05-05</td><td>-27.05865</td><td>-10.30322</td><td>-55.17711</td><td>-24.72296</td></tr>\n",
       "\t<tr><th scope=row>29</th><td>Niwot</td><td>2009-03-06</td><td>8.301794</td><td>-1.26273</td><td>-30.62698</td><td>-13.47715</td></tr>\n",
       "</tbody>\n",
       "</table>\n"
      ],
      "text/latex": [
       "\\begin{tabular}{r|llllll}\n",
       "  & site & date & PHV & PHVRCN & RCN & SNODAS\\\\\n",
       "\\hline\n",
       "\t1 & Slumgullion & 2001-04-22 & -36.9415 & -39.96884 & -66.58966 & NaN\\\\\n",
       "\t2 & Slumgullion & 2002-04-06 & -4.294667 & -1.288593 & -89.48298 & NaN\\\\\n",
       "\t3 & Upper San Juan & 2001-04-23 & -4.702842 & -13.15699 & -70.26045 & NaN\\\\\n",
       "\t4 & Upper San Juan & 2002-04-05 & 31.56377 & 22.55747 & -81.11455 & NaN\\\\\n",
       "\t5 & Wolf Creek Summit & 2001-04-24 & -4.866326 & -12.86519 & -69.58805 & NaN\\\\\n",
       "\t6 & Wolf Creek Summit & 2002-04-04 & 31.23915 & 23.00495 & -82.46157 & NaN\\\\\n",
       "\t7 & Lilly Pond & 2001-04-27 & -25.34167 & -28.59833 & -68.1361 & NaN\\\\\n",
       "\t8 & Lilly Pond & 2002-04-03 & 17.85057 & 22.65651 & -85.08405 & NaN\\\\\n",
       "\t9 & Green Lakes Valley & 2001-05-09 & NaN & NaN & NaN & NaN\\\\\n",
       "\t10 & Green Lakes Valley & 2002-05-01 & NaN & NaN & NaN & NaN\\\\\n",
       "\t11 & Green Lakes Valley & 2003-05-14 & NaN & NaN & NaN & NaN\\\\\n",
       "\t12 & Green Lakes Valley & 2004-05-12 & NaN & NaN & NaN & NaN\\\\\n",
       "\t13 & Green Lakes Valley & 2005-05-10 & NaN & NaN & NaN & NaN\\\\\n",
       "\t14 & Green Lakes Valley & 2006-05-11 & NaN & NaN & NaN & NaN\\\\\n",
       "\t15 & Green Lakes Valley & 2007-05-10 & NaN & NaN & NaN & NaN\\\\\n",
       "\t16 & Lizard Head & 2008-03-16 & NaN & NaN & NaN & NaN\\\\\n",
       "\t17 & Joe Wright & 2008-04-03 & 38.71434 & 30.07216 & -45.60411 & 17.06574\\\\\n",
       "\t18 & Joe Wright & 2008-05-01 & 24.35453 & 25.68998 & -44.80518 & 6.189086\\\\\n",
       "\t19 & Joe Wright & 2009-02-28 & -31.68997 & -14.78426 & NaN & -19.5697\\\\\n",
       "\t20 & Joe Wright & 2009-05-02 & NaN & NaN & NaN & NaN\\\\\n",
       "\t21 & Dry Lake & 2008-04-04 & 54.29182 & 41.3127 & -49.01592 & 17.87664\\\\\n",
       "\t22 & Dry Lake & 2008-05-02 & 38.5465 & 31.03672 & -54.13959 & 5.325461\\\\\n",
       "\t23 & Dry Lake & 2009-02-28 & -16.24042 & -7.114857 & NaN & 0.9489775\\\\\n",
       "\t24 & Dry Lake & 2009-03-28 & 24.29118 & 12.06858 & -9.332834 & 6.975789\\\\\n",
       "\t25 & South Brush Creek & 2008-04-05 & 21.51743 & 17.22926 & -45.71759 & 4.258646\\\\\n",
       "\t26 & South Brush Creek & 2009-03-29 & -7.07095 & -6.27482 & -19.90374 & -10.79575\\\\\n",
       "\t27 & Niwot & 2008-04-07 & 29.53286 & 24.94397 & -38.23898 & 24.81425\\\\\n",
       "\t28 & Niwot & 2008-05-05 & -27.05865 & -10.30322 & -55.17711 & -24.72296\\\\\n",
       "\t29 & Niwot & 2009-03-06 & 8.301794 & -1.26273 & -30.62698 & -13.47715\\\\\n",
       "\\end{tabular}\n"
      ],
      "text/plain": [
       "                 site       date        PHV     PHVRCN        RCN      SNODAS\n",
       "1         Slumgullion 2001-04-22 -36.941505 -39.968841 -66.589662         NaN\n",
       "2         Slumgullion 2002-04-06  -4.294667  -1.288593 -89.482981         NaN\n",
       "3      Upper San Juan 2001-04-23  -4.702842 -13.156992 -70.260446         NaN\n",
       "4      Upper San Juan 2002-04-05  31.563769  22.557472 -81.114552         NaN\n",
       "5   Wolf Creek Summit 2001-04-24  -4.866326 -12.865186 -69.588045         NaN\n",
       "6   Wolf Creek Summit 2002-04-04  31.239151  23.004946 -82.461566         NaN\n",
       "7          Lilly Pond 2001-04-27 -25.341667 -28.598329 -68.136097         NaN\n",
       "8          Lilly Pond 2002-04-03  17.850573  22.656509 -85.084054         NaN\n",
       "9  Green Lakes Valley 2001-05-09        NaN        NaN        NaN         NaN\n",
       "10 Green Lakes Valley 2002-05-01        NaN        NaN        NaN         NaN\n",
       "11 Green Lakes Valley 2003-05-14        NaN        NaN        NaN         NaN\n",
       "12 Green Lakes Valley 2004-05-12        NaN        NaN        NaN         NaN\n",
       "13 Green Lakes Valley 2005-05-10        NaN        NaN        NaN         NaN\n",
       "14 Green Lakes Valley 2006-05-11        NaN        NaN        NaN         NaN\n",
       "15 Green Lakes Valley 2007-05-10        NaN        NaN        NaN         NaN\n",
       "16        Lizard Head 2008-03-16        NaN        NaN        NaN         NaN\n",
       "17         Joe Wright 2008-04-03  38.714336  30.072156 -45.604112  17.0657384\n",
       "18         Joe Wright 2008-05-01  24.354532  25.689984 -44.805183   6.1890857\n",
       "19         Joe Wright 2009-02-28 -31.689969 -14.784260        NaN -19.5697033\n",
       "20         Joe Wright 2009-05-02        NaN        NaN        NaN         NaN\n",
       "21           Dry Lake 2008-04-04  54.291818  41.312704 -49.015918  17.8766432\n",
       "22           Dry Lake 2008-05-02  38.546501  31.036718 -54.139589   5.3254609\n",
       "23           Dry Lake 2009-02-28 -16.240422  -7.114857        NaN   0.9489775\n",
       "24           Dry Lake 2009-03-28  24.291177  12.068582  -9.332834   6.9757894\n",
       "25  South Brush Creek 2008-04-05  21.517426  17.229261 -45.717591   4.2586457\n",
       "26  South Brush Creek 2009-03-29  -7.070950  -6.274820 -19.903743 -10.7957479\n",
       "27              Niwot 2008-04-07  29.532857  24.943974 -38.238985  24.8142548\n",
       "28              Niwot 2008-05-05 -27.058645 -10.303218 -55.177107 -24.7229615\n",
       "29              Niwot 2009-03-06   8.301794  -1.262730 -30.626979 -13.4771525"
      ]
     },
     "execution_count": 59,
     "metadata": {},
     "output_type": "execute_result"
    }
   ],
   "source": [
    "#leave out survey station for mean bias because survey station wasn't used in regression\n",
    "weeklysurveyavg=ddply(objcost,.(model.type,yr,mth),function(dF){\n",
    "#print(dF)\n",
    "#     str(dF)\n",
    "    dFo=data.frame()\n",
    "    for(s in unique(dF$site)){\n",
    "  #      print(s)\n",
    "        sid=which(dF$site==s)\n",
    " #       str(sid)\n",
    "       # str(dF$cost)\n",
    "        avg=mean(dF$cost[-sid],na.rm=T)\n",
    "#          print(avg)\n",
    "        dFo=rbind(dFo,data.frame(site=s,date=dF$date[sid],avg))\n",
    "        }\n",
    "#    print(dFo)\n",
    "    return(dFo)\n",
    "})\n",
    "dcast(weeklysurveyavg,site+date~model.type,value.var='avg')\n",
    "# weekavg=dcast(weeklysurveyavg,site+date+yr+mth~model.type,value.var='avg',fun.agg=mean,na.rm=T)\n",
    "# weekavg$pattern=c(rep('a',15),'a1','a','m','ac','m','a','m','ac','m','a','m','a','m','ac')\n",
    "# mean(weekavg$PHV-weekavg$PHVRCN,na.rm=T)\n",
    "# data.frame(mean(weekavg$PHV,na.rm=T),mean(weekavg$PHVRCN,na.rm=T))\n",
    "# weekavg "
   ]
  },
  {
   "cell_type": "code",
   "execution_count": 60,
   "metadata": {
    "collapsed": false
   },
   "outputs": [
    {
     "data": {
      "text/html": [
       "<table>\n",
       "<thead><tr><th></th><th scope=col>yr</th><th scope=col>mth</th><th scope=col>PHV</th><th scope=col>PHVRCN</th><th scope=col>RCN</th><th scope=col>SNODAS</th></tr></thead>\n",
       "<tbody>\n",
       "\t<tr><th scope=row>1</th><td>2001</td><td>04</td><td>-17.96308</td><td>-23.64734</td><td>-68.64356</td><td>NaN</td></tr>\n",
       "\t<tr><th scope=row>2</th><td>2001</td><td>05</td><td>NaN</td><td>NaN</td><td>NaN</td><td>NaN</td></tr>\n",
       "\t<tr><th scope=row>3</th><td>2002</td><td>04</td><td>19.08971</td><td>16.73258</td><td>-84.53579</td><td>NaN</td></tr>\n",
       "\t<tr><th scope=row>4</th><td>2002</td><td>05</td><td>NaN</td><td>NaN</td><td>NaN</td><td>NaN</td></tr>\n",
       "\t<tr><th scope=row>5</th><td>2003</td><td>05</td><td>NaN</td><td>NaN</td><td>NaN</td><td>NaN</td></tr>\n",
       "\t<tr><th scope=row>6</th><td>2004</td><td>05</td><td>NaN</td><td>NaN</td><td>NaN</td><td>NaN</td></tr>\n",
       "\t<tr><th scope=row>7</th><td>2005</td><td>05</td><td>NaN</td><td>NaN</td><td>NaN</td><td>NaN</td></tr>\n",
       "\t<tr><th scope=row>8</th><td>2006</td><td>05</td><td>NaN</td><td>NaN</td><td>NaN</td><td>NaN</td></tr>\n",
       "\t<tr><th scope=row>9</th><td>2007</td><td>05</td><td>NaN</td><td>NaN</td><td>NaN</td><td>NaN</td></tr>\n",
       "\t<tr><th scope=row>10</th><td>2008</td><td>03</td><td>NaN</td><td>NaN</td><td>NaN</td><td>NaN</td></tr>\n",
       "\t<tr><th scope=row>11</th><td>2008</td><td>04</td><td>36.01411</td><td>28.38952</td><td>-44.64415</td><td>16.00382</td></tr>\n",
       "\t<tr><th scope=row>12</th><td>2008</td><td>05</td><td>11.94746</td><td>15.47449</td><td>-51.37396</td><td>-4.402805</td></tr>\n",
       "\t<tr><th scope=row>13</th><td>2009</td><td>02</td><td>-23.9652</td><td>-10.94956</td><td>NaN</td><td>-9.310363</td></tr>\n",
       "\t<tr><th scope=row>14</th><td>2009</td><td>03</td><td>8.50734</td><td>1.510344</td><td>-19.95452</td><td>-5.765704</td></tr>\n",
       "\t<tr><th scope=row>15</th><td>2009</td><td>05</td><td>NaN</td><td>NaN</td><td>NaN</td><td>NaN</td></tr>\n",
       "</tbody>\n",
       "</table>\n"
      ],
      "text/latex": [
       "\\begin{tabular}{r|llllll}\n",
       "  & yr & mth & PHV & PHVRCN & RCN & SNODAS\\\\\n",
       "\\hline\n",
       "\t1 & 2001 & 04 & -17.96308 & -23.64734 & -68.64356 & NaN\\\\\n",
       "\t2 & 2001 & 05 & NaN & NaN & NaN & NaN\\\\\n",
       "\t3 & 2002 & 04 & 19.08971 & 16.73258 & -84.53579 & NaN\\\\\n",
       "\t4 & 2002 & 05 & NaN & NaN & NaN & NaN\\\\\n",
       "\t5 & 2003 & 05 & NaN & NaN & NaN & NaN\\\\\n",
       "\t6 & 2004 & 05 & NaN & NaN & NaN & NaN\\\\\n",
       "\t7 & 2005 & 05 & NaN & NaN & NaN & NaN\\\\\n",
       "\t8 & 2006 & 05 & NaN & NaN & NaN & NaN\\\\\n",
       "\t9 & 2007 & 05 & NaN & NaN & NaN & NaN\\\\\n",
       "\t10 & 2008 & 03 & NaN & NaN & NaN & NaN\\\\\n",
       "\t11 & 2008 & 04 & 36.01411 & 28.38952 & -44.64415 & 16.00382\\\\\n",
       "\t12 & 2008 & 05 & 11.94746 & 15.47449 & -51.37396 & -4.402805\\\\\n",
       "\t13 & 2009 & 02 & -23.9652 & -10.94956 & NaN & -9.310363\\\\\n",
       "\t14 & 2009 & 03 & 8.50734 & 1.510344 & -19.95452 & -5.765704\\\\\n",
       "\t15 & 2009 & 05 & NaN & NaN & NaN & NaN\\\\\n",
       "\\end{tabular}\n"
      ],
      "text/plain": [
       "     yr mth       PHV     PHVRCN       RCN    SNODAS\n",
       "1  2001  04 -17.96308 -23.647337 -68.64356       NaN\n",
       "2  2001  05       NaN        NaN       NaN       NaN\n",
       "3  2002  04  19.08971  16.732583 -84.53579       NaN\n",
       "4  2002  05       NaN        NaN       NaN       NaN\n",
       "5  2003  05       NaN        NaN       NaN       NaN\n",
       "6  2004  05       NaN        NaN       NaN       NaN\n",
       "7  2005  05       NaN        NaN       NaN       NaN\n",
       "8  2006  05       NaN        NaN       NaN       NaN\n",
       "9  2007  05       NaN        NaN       NaN       NaN\n",
       "10 2008  03       NaN        NaN       NaN       NaN\n",
       "11 2008  04  36.01411  28.389524 -44.64415 16.003821\n",
       "12 2008  05  11.94746  15.474495 -51.37396 -4.402805\n",
       "13 2009  02 -23.96520 -10.949558       NaN -9.310363\n",
       "14 2009  03   8.50734   1.510344 -19.95452 -5.765704\n",
       "15 2009  05       NaN        NaN       NaN       NaN"
      ]
     },
     "execution_count": 60,
     "metadata": {},
     "output_type": "execute_result"
    }
   ],
   "source": [
    "dcast(weeklysurveyavg,yr+mth~model.type,value.var='avg',fun.agg=mean,na.rm=T)"
   ]
  },
  {
   "cell_type": "code",
   "execution_count": 61,
   "metadata": {
    "collapsed": false
   },
   "outputs": [
    {
     "ename": "ERROR",
     "evalue": "Error in empty(.data): object 'weekavg' not found\n",
     "output_type": "error",
     "traceback": [
      "Error in empty(.data): object 'weekavg' not found\n"
     ]
    }
   ],
   "source": [
    "ddply(weekavg,.(yr,pattern),function(dF){\n",
    "    summarise(dF,\n",
    "              avg_phv=mean(PHV,na.rm=T), \n",
    "              avg_phvrcn=mean(PHVRCN,na.rm=T), \n",
    "              avg_rcn=mean(RCN,na.rm=T), \n",
    "              avg_snodas=mean(SNODAS,na.rm=T)\n",
    "              )})"
   ]
  },
  {
   "cell_type": "markdown",
   "metadata": {},
   "source": [
    "# Survey Boxplots"
   ]
  },
  {
   "cell_type": "markdown",
   "metadata": {
    "collapsed": false
   },
   "source": [
    "## regression bias relative to surveys"
   ]
  },
  {
   "cell_type": "code",
   "execution_count": 6,
   "metadata": {
    "collapsed": false,
    "scrolled": false
   },
   "outputs": [
    {
     "data": {
      "text/html": [
       "<table>\n",
       "<thead><tr><th></th><th scope=col>site</th><th scope=col>date</th><th scope=col>PHV</th><th scope=col>PHVRCN</th><th scope=col>RCN</th><th scope=col>SNODAS</th></tr></thead>\n",
       "<tbody>\n",
       "\t<tr><th scope=row>1</th><td>Dry Lake</td><td>2008-04-04</td><td>-18.81081</td><td>-5.944015</td><td>-31.56369</td><td>10.64022</td></tr>\n",
       "\t<tr><th scope=row>2</th><td>Dry Lake</td><td>2008-05-02</td><td>-41.3234</td><td>-41.03223</td><td>-45.94816</td><td>-22.85829</td></tr>\n",
       "\t<tr><th scope=row>3</th><td>Dry Lake</td><td>2009-02-28</td><td>-31.69512</td><td>-29.21118</td><td>NaN</td><td>-19.35052</td></tr>\n",
       "\t<tr><th scope=row>4</th><td>Dry Lake</td><td>2009-03-28</td><td>-23.06954</td><td>-10.18813</td><td>-41.21317</td><td>-30.5706</td></tr>\n",
       "\t<tr><th scope=row>5</th><td>Green Lakes Valley</td><td>2001-05-09</td><td>-37.6953</td><td>-12.56368</td><td>-32.83079</td><td>NaN</td></tr>\n",
       "\t<tr><th scope=row>6</th><td>Green Lakes Valley</td><td>2002-05-01</td><td>-51.39466</td><td>-5.24698</td><td>-41.40114</td><td>NaN</td></tr>\n",
       "\t<tr><th scope=row>7</th><td>Green Lakes Valley</td><td>2003-05-14</td><td>-41.88656</td><td>-6.224262</td><td>-23.82927</td><td>NaN</td></tr>\n",
       "\t<tr><th scope=row>8</th><td>Green Lakes Valley</td><td>2004-05-12</td><td>-65.13073</td><td>-26.58549</td><td>-40.97479</td><td>-53.04359</td></tr>\n",
       "\t<tr><th scope=row>9</th><td>Green Lakes Valley</td><td>2005-05-10</td><td>-15.80118</td><td>24.46582</td><td>-24.51388</td><td>-69.09068</td></tr>\n",
       "\t<tr><th scope=row>10</th><td>Green Lakes Valley</td><td>2006-05-11</td><td>-12.18663</td><td>52.6314</td><td>-50.53808</td><td>-71.31215</td></tr>\n",
       "\t<tr><th scope=row>11</th><td>Green Lakes Valley</td><td>2007-05-10</td><td>-39.69313</td><td>-2.611568</td><td>-63.72162</td><td>-57.68915</td></tr>\n",
       "\t<tr><th scope=row>12</th><td>Joe Wright</td><td>2008-04-03</td><td>27.92112</td><td>34.88536</td><td>-42.31751</td><td>12.81807</td></tr>\n",
       "\t<tr><th scope=row>13</th><td>Joe Wright</td><td>2008-05-01</td><td>-12.9114</td><td>-10.00595</td><td>-64.74441</td><td>-25.58659</td></tr>\n",
       "\t<tr><th scope=row>14</th><td>Joe Wright</td><td>2009-02-28</td><td>-15.9079</td><td>-16.51731</td><td>NaN</td><td>0.9489775</td></tr>\n",
       "\t<tr><th scope=row>15</th><td>Joe Wright</td><td>2009-05-02</td><td>-21.87953</td><td>-16.10205</td><td>-65.43765</td><td>-22.99738</td></tr>\n",
       "\t<tr><th scope=row>16</th><td>Lilly Pond</td><td>2001-04-27</td><td>1.479039</td><td>-11.18001</td><td>-70.57077</td><td>NaN</td></tr>\n",
       "\t<tr><th scope=row>17</th><td>Lilly Pond</td><td>2002-04-03</td><td>29.53353</td><td>4.811711</td><td>-65.62258</td><td>NaN</td></tr>\n",
       "\t<tr><th scope=row>18</th><td>Lizard Head</td><td>2008-03-16</td><td>-33.55364</td><td>-35.79609</td><td>-81.92587</td><td>13.4903</td></tr>\n",
       "\t<tr><th scope=row>19</th><td>Niwot</td><td>2008-04-07</td><td>56.21</td><td>36.63568</td><td>-63.94157</td><td>-11.91132</td></tr>\n",
       "\t<tr><th scope=row>20</th><td>Niwot</td><td>2008-05-05</td><td>90.55575</td><td>70.23965</td><td>-43.9307</td><td>31.59268</td></tr>\n",
       "\t<tr><th scope=row>21</th><td>Niwot</td><td>2009-03-06</td><td>7.717398</td><td>2.251406</td><td>-0.751181</td><td>7.814663</td></tr>\n",
       "\t<tr><th scope=row>22</th><td>Slumgullion</td><td>2001-04-22</td><td>38.97161</td><td>25.31923</td><td>-74.87865</td><td>NaN</td></tr>\n",
       "\t<tr><th scope=row>23</th><td>Slumgullion</td><td>2002-04-06</td><td>82.18698</td><td>65.28052</td><td>-71.25581</td><td>NaN</td></tr>\n",
       "\t<tr><th scope=row>24</th><td>South Brush Creek</td><td>2008-04-05</td><td>78.97086</td><td>42.83674</td><td>-41.07249</td><td>51.23934</td></tr>\n",
       "\t<tr><th scope=row>25</th><td>South Brush Creek</td><td>2009-03-29</td><td>40.09484</td><td>6.70505</td><td>-21.44924</td><td>6.790612</td></tr>\n",
       "\t<tr><th scope=row>26</th><td>Upper San Juan</td><td>2001-04-23</td><td>-57.65358</td><td>-55.02342</td><td>-63.28773</td><td>NaN</td></tr>\n",
       "\t<tr><th scope=row>27</th><td>Upper San Juan</td><td>2002-04-05</td><td>-17.06929</td><td>1.146475</td><td>-94.58599</td><td>NaN</td></tr>\n",
       "\t<tr><th scope=row>28</th><td>Wolf Creek Summit</td><td>2001-04-24</td><td>-56.9814</td><td>-55.73043</td><td>-64.83091</td><td>NaN</td></tr>\n",
       "\t<tr><th scope=row>29</th><td>Wolf Creek Summit</td><td>2002-04-04</td><td>-19.56923</td><td>-4.351162</td><td>-91.71872</td><td>NaN</td></tr>\n",
       "</tbody>\n",
       "</table>\n"
      ],
      "text/latex": [
       "\\begin{tabular}{r|llllll}\n",
       "  & site & date & PHV & PHVRCN & RCN & SNODAS\\\\\n",
       "\\hline\n",
       "\t1 & Dry Lake & 2008-04-04 & -18.81081 & -5.944015 & -31.56369 & 10.64022\\\\\n",
       "\t2 & Dry Lake & 2008-05-02 & -41.3234 & -41.03223 & -45.94816 & -22.85829\\\\\n",
       "\t3 & Dry Lake & 2009-02-28 & -31.69512 & -29.21118 & NaN & -19.35052\\\\\n",
       "\t4 & Dry Lake & 2009-03-28 & -23.06954 & -10.18813 & -41.21317 & -30.5706\\\\\n",
       "\t5 & Green Lakes Valley & 2001-05-09 & -37.6953 & -12.56368 & -32.83079 & NaN\\\\\n",
       "\t6 & Green Lakes Valley & 2002-05-01 & -51.39466 & -5.24698 & -41.40114 & NaN\\\\\n",
       "\t7 & Green Lakes Valley & 2003-05-14 & -41.88656 & -6.224262 & -23.82927 & NaN\\\\\n",
       "\t8 & Green Lakes Valley & 2004-05-12 & -65.13073 & -26.58549 & -40.97479 & -53.04359\\\\\n",
       "\t9 & Green Lakes Valley & 2005-05-10 & -15.80118 & 24.46582 & -24.51388 & -69.09068\\\\\n",
       "\t10 & Green Lakes Valley & 2006-05-11 & -12.18663 & 52.6314 & -50.53808 & -71.31215\\\\\n",
       "\t11 & Green Lakes Valley & 2007-05-10 & -39.69313 & -2.611568 & -63.72162 & -57.68915\\\\\n",
       "\t12 & Joe Wright & 2008-04-03 & 27.92112 & 34.88536 & -42.31751 & 12.81807\\\\\n",
       "\t13 & Joe Wright & 2008-05-01 & -12.9114 & -10.00595 & -64.74441 & -25.58659\\\\\n",
       "\t14 & Joe Wright & 2009-02-28 & -15.9079 & -16.51731 & NaN & 0.9489775\\\\\n",
       "\t15 & Joe Wright & 2009-05-02 & -21.87953 & -16.10205 & -65.43765 & -22.99738\\\\\n",
       "\t16 & Lilly Pond & 2001-04-27 & 1.479039 & -11.18001 & -70.57077 & NaN\\\\\n",
       "\t17 & Lilly Pond & 2002-04-03 & 29.53353 & 4.811711 & -65.62258 & NaN\\\\\n",
       "\t18 & Lizard Head & 2008-03-16 & -33.55364 & -35.79609 & -81.92587 & 13.4903\\\\\n",
       "\t19 & Niwot & 2008-04-07 & 56.21 & 36.63568 & -63.94157 & -11.91132\\\\\n",
       "\t20 & Niwot & 2008-05-05 & 90.55575 & 70.23965 & -43.9307 & 31.59268\\\\\n",
       "\t21 & Niwot & 2009-03-06 & 7.717398 & 2.251406 & -0.751181 & 7.814663\\\\\n",
       "\t22 & Slumgullion & 2001-04-22 & 38.97161 & 25.31923 & -74.87865 & NaN\\\\\n",
       "\t23 & Slumgullion & 2002-04-06 & 82.18698 & 65.28052 & -71.25581 & NaN\\\\\n",
       "\t24 & South Brush Creek & 2008-04-05 & 78.97086 & 42.83674 & -41.07249 & 51.23934\\\\\n",
       "\t25 & South Brush Creek & 2009-03-29 & 40.09484 & 6.70505 & -21.44924 & 6.790612\\\\\n",
       "\t26 & Upper San Juan & 2001-04-23 & -57.65358 & -55.02342 & -63.28773 & NaN\\\\\n",
       "\t27 & Upper San Juan & 2002-04-05 & -17.06929 & 1.146475 & -94.58599 & NaN\\\\\n",
       "\t28 & Wolf Creek Summit & 2001-04-24 & -56.9814 & -55.73043 & -64.83091 & NaN\\\\\n",
       "\t29 & Wolf Creek Summit & 2002-04-04 & -19.56923 & -4.351162 & -91.71872 & NaN\\\\\n",
       "\\end{tabular}\n"
      ],
      "text/plain": [
       "                 site       date        PHV     PHVRCN        RCN      SNODAS\n",
       "1            Dry Lake 2008-04-04 -18.810806  -5.944015 -31.563692  10.6402217\n",
       "2            Dry Lake 2008-05-02 -41.323399 -41.032231 -45.948163 -22.8582905\n",
       "3            Dry Lake 2009-02-28 -31.695124 -29.211184        NaN -19.3505161\n",
       "4            Dry Lake 2009-03-28 -23.069537 -10.188127 -41.213173 -30.5705957\n",
       "5  Green Lakes Valley 2001-05-09 -37.695300 -12.563681 -32.830790         NaN\n",
       "6  Green Lakes Valley 2002-05-01 -51.394661  -5.246980 -41.401141         NaN\n",
       "7  Green Lakes Valley 2003-05-14 -41.886558  -6.224262 -23.829265         NaN\n",
       "8  Green Lakes Valley 2004-05-12 -65.130728 -26.585489 -40.974793 -53.0435940\n",
       "9  Green Lakes Valley 2005-05-10 -15.801176  24.465822 -24.513878 -69.0906751\n",
       "10 Green Lakes Valley 2006-05-11 -12.186631  52.631397 -50.538083 -71.3121462\n",
       "11 Green Lakes Valley 2007-05-10 -39.693131  -2.611568 -63.721620 -57.6891547\n",
       "12         Joe Wright 2008-04-03  27.921122  34.885363 -42.317511  12.8180670\n",
       "13         Joe Wright 2008-05-01 -12.911397 -10.005952 -64.744408 -25.5865862\n",
       "14         Joe Wright 2009-02-28 -15.907897 -16.517311        NaN   0.9489775\n",
       "15         Joe Wright 2009-05-02 -21.879530 -16.102048 -65.437654 -22.9973752\n",
       "16         Lilly Pond 2001-04-27   1.479039 -11.180009 -70.570773         NaN\n",
       "17         Lilly Pond 2002-04-03  29.533532   4.811711 -65.622583         NaN\n",
       "18        Lizard Head 2008-03-16 -33.553643 -35.796088 -81.925871  13.4902974\n",
       "19              Niwot 2008-04-07  56.209997  36.635679 -63.941569 -11.9113231\n",
       "20              Niwot 2008-05-05  90.555746  70.239652 -43.930698  31.5926763\n",
       "21              Niwot 2009-03-06   7.717398   2.251406  -0.751181   7.8146629\n",
       "22        Slumgullion 2001-04-22  38.971606  25.319232 -74.878651         NaN\n",
       "23        Slumgullion 2002-04-06  82.186980  65.280522 -71.255812         NaN\n",
       "24  South Brush Creek 2008-04-05  78.970863  42.836744 -41.072489  51.2393450\n",
       "25  South Brush Creek 2009-03-29  40.094839   6.705050 -21.449244   6.7906121\n",
       "26     Upper San Juan 2001-04-23 -57.653585 -55.023420 -63.287729         NaN\n",
       "27     Upper San Juan 2002-04-05 -17.069290   1.146475 -94.585988         NaN\n",
       "28  Wolf Creek Summit 2001-04-24 -56.981397 -55.730432 -64.830908         NaN\n",
       "29  Wolf Creek Summit 2002-04-04 -19.569226  -4.351162 -91.718718         NaN"
      ]
     },
     "execution_count": 6,
     "metadata": {},
     "output_type": "execute_result"
    },
    {
     "data": {
      "text/html": [
       "<table>\n",
       "<thead><tr><th></th><th scope=col>count(PHV > 0)</th><th scope=col>count(PHVRCN > 0)</th></tr></thead>\n",
       "<tbody>\n",
       "\t<tr><th scope=row>1</th><td>FALSE</td><td>19</td><td>FALSE</td><td>17</td></tr>\n",
       "\t<tr><th scope=row>2</th><td>TRUE</td><td>10</td><td>TRUE</td><td>12</td></tr>\n",
       "</tbody>\n",
       "</table>\n"
      ],
      "text/latex": [
       "\\begin{tabular}{r|ll}\n",
       "  & count(PHV > 0) & count(PHVRCN > 0)\\\\\n",
       "\\hline\n",
       "\t1 & FALSE & 19 & FALSE & 17\\\\\n",
       "\t2 & TRUE & 10 & TRUE & 12\\\\\n",
       "\\end{tabular}\n"
      ],
      "text/plain": [
       "  count(PHV > 0).x count(PHV > 0).freq count(PHVRCN > 0).x\n",
       "1            FALSE                  19               FALSE\n",
       "2             TRUE                  10                TRUE\n",
       "  count(PHVRCN > 0).freq\n",
       "1                     17\n",
       "2                     12"
      ]
     },
     "execution_count": 6,
     "metadata": {},
     "output_type": "execute_result"
    },
    {
     "data": {
      "text/html": [
       "<table>\n",
       "<thead><tr><th></th><th scope=col>mean(PHV)</th><th scope=col>mean(PHVRCN)</th></tr></thead>\n",
       "<tbody>\n",
       "\t<tr><th scope=row>1</th><td>-5.536962</td><td>0.7894859</td></tr>\n",
       "</tbody>\n",
       "</table>\n"
      ],
      "text/latex": [
       "\\begin{tabular}{r|ll}\n",
       "  & mean(PHV) & mean(PHVRCN)\\\\\n",
       "\\hline\n",
       "\t1 & -5.536962 & 0.7894859\\\\\n",
       "\\end{tabular}\n"
      ],
      "text/plain": [
       "  mean(PHV) mean(PHVRCN)\n",
       "1 -5.536962    0.7894859"
      ]
     },
     "execution_count": 6,
     "metadata": {},
     "output_type": "execute_result"
    }
   ],
   "source": [
    "objf='pctbias'\n",
    "objcost=ddply(cellavg,.(model.type,date,site,yr,mth),function(dF){\n",
    "  cost=docost(dF$swe.obs.avg,dF$swe.model,objf)\n",
    "  data.frame(cost)\n",
    "})\n",
    "# print(objcost)\n",
    "swebias=dcast(objcost,site+date~model.type,value.var='cost')\n",
    "swebias\n",
    "summarise(swebias,count(PHV>0),count(PHVRCN>0))\n",
    "summarise(swebias,mean(PHV),mean(PHVRCN))"
   ]
  },
  {
   "cell_type": "markdown",
   "metadata": {},
   "source": [
    "## setup dataframes for boxplot"
   ]
  },
  {
   "cell_type": "code",
   "execution_count": 7,
   "metadata": {
    "collapsed": false
   },
   "outputs": [],
   "source": [
    "# average rmse of each model for each survey\n",
    "sweerror=ddply(cellavg,.(model.type,site,date,mth,yr),function(dF) with(dF,docost(swe.obs.avg,swe.model,'rmse')))\n",
    "names(sweerror)=c('source','site','date','mth','yr','objcost')\n",
    "# combine modeled and observed swe for boxplots\n",
    "obs=swe[,c('site','date','yr','mth','swe.obs')]\n",
    "obs$source='OBS'\n",
    "mdl=swe[,c('site','date','yr','mth','swe.model','model.type')]\n",
    "names(obs) <- names(mdl) <- c('site','date','yr','mth','swe','source')\n",
    "sweboxplot=rbind(obs,mdl)\n",
    "# calculate average swe of each source for each survey\n",
    "sweavg=ddply(sweboxplot,.(site,date,mth,yr,source),function(dF) summarise(dF, avg=mean(swe,na.rm=T)))"
   ]
  },
  {
   "cell_type": "markdown",
   "metadata": {},
   "source": [
    "### rmse using averages instead of by pixel"
   ]
  },
  {
   "cell_type": "code",
   "execution_count": 64,
   "metadata": {
    "collapsed": false
   },
   "outputs": [
    {
     "data": {
      "text/html": [
       "0.237411457480476"
      ],
      "text/latex": [
       "0.237411457480476"
      ],
      "text/markdown": [
       "0.237411457480476"
      ],
      "text/plain": [
       "[1] 0.2374115"
      ]
     },
     "execution_count": 64,
     "metadata": {},
     "output_type": "execute_result"
    },
    {
     "data": {
      "text/html": [
       "0.209384337252466"
      ],
      "text/latex": [
       "0.209384337252466"
      ],
      "text/markdown": [
       "0.209384337252466"
      ],
      "text/plain": [
       "[1] 0.2093843"
      ]
     },
     "execution_count": 64,
     "metadata": {},
     "output_type": "execute_result"
    },
    {
     "data": {
      "text/html": [
       "0.26338223679748"
      ],
      "text/latex": [
       "0.26338223679748"
      ],
      "text/markdown": [
       "0.26338223679748"
      ],
      "text/plain": [
       "[1] 0.2633822"
      ]
     },
     "execution_count": 64,
     "metadata": {},
     "output_type": "execute_result"
    }
   ],
   "source": [
    "tmp=dcast(sweavg,site+date~source,value.var='avg')\n",
    "docost(tmp$OBS,tmp$PHV,'rmse')\n",
    "docost(tmp$OBS,tmp$PHVRCN,'rmse')\n",
    "docost(tmp$OBS,tmp$SNODAS,'rmse')"
   ]
  },
  {
   "cell_type": "markdown",
   "metadata": {},
   "source": [
    "## meromy bias"
   ]
  },
  {
   "cell_type": "code",
   "execution_count": 15,
   "metadata": {
    "collapsed": false
   },
   "outputs": [
    {
     "data": {
      "text/html": [
       "<table>\n",
       "<thead><tr><th></th><th scope=col>med</th><th scope=col>avg</th></tr></thead>\n",
       "<tbody>\n",
       "\t<tr><th scope=row>1</th><td>14.76</td><td>26.88182</td></tr>\n",
       "</tbody>\n",
       "</table>\n"
      ],
      "text/latex": [
       "\\begin{tabular}{r|ll}\n",
       "  & med & avg\\\\\n",
       "\\hline\n",
       "\t1 & 14.76 & 26.88182\\\\\n",
       "\\end{tabular}\n"
      ],
      "text/plain": [
       "    med      avg\n",
       "1 14.76 26.88182"
      ]
     },
     "execution_count": 15,
     "metadata": {},
     "output_type": "execute_result"
    }
   ],
   "source": [
    "meromybias=read.csv('data/spatialvalidation/snow_survey_table.csv',stringsAsFactor=F)\n",
    "colnames(meromybias)=c('site','date','survey.swe.avg.m','snotel.swe.m','bias.pct')\n",
    "meromybias$date=as.POSIXct(strptime(as.character(meromybias$date),'%m/%d/%Y'))\n",
    "meromybias=arrange(meromybias,date,site)\n",
    "data.frame(med=median(meromybias$bias.pct,na.rm=T),avg=mean(meromybias$bias.pct,na.rm=T))"
   ]
  },
  {
   "cell_type": "code",
   "execution_count": 16,
   "metadata": {
    "collapsed": false,
    "scrolled": false
   },
   "outputs": [
    {
     "data": {
      "text/html": [
       "<table>\n",
       "<thead><tr><th></th><th scope=col>site</th><th scope=col>bias.pct.sd</th></tr></thead>\n",
       "<tbody>\n",
       "\t<tr><th scope=row>1</th><td>Dry Lake</td><td>9.369406</td></tr>\n",
       "\t<tr><th scope=row>2</th><td>Green Lakes Valley</td><td>NA</td></tr>\n",
       "\t<tr><th scope=row>3</th><td>Joe Wright</td><td>14.89653</td></tr>\n",
       "\t<tr><th scope=row>4</th><td>Lily Pond</td><td>25.92961</td></tr>\n",
       "\t<tr><th scope=row>5</th><td>Lizard Head</td><td>NA</td></tr>\n",
       "\t<tr><th scope=row>6</th><td>Niwot Ridge</td><td>23.96233</td></tr>\n",
       "\t<tr><th scope=row>7</th><td>Slumgullion</td><td>124.9246</td></tr>\n",
       "\t<tr><th scope=row>8</th><td>South Brush Creek</td><td>34.41489</td></tr>\n",
       "\t<tr><th scope=row>9</th><td>Upper San Juan</td><td>7.14885</td></tr>\n",
       "\t<tr><th scope=row>10</th><td>Wolf Creek Summit</td><td>24.57903</td></tr>\n",
       "</tbody>\n",
       "</table>\n"
      ],
      "text/latex": [
       "\\begin{tabular}{r|ll}\n",
       "  & site & bias.pct.sd\\\\\n",
       "\\hline\n",
       "\t1 & Dry Lake & 9.369406\\\\\n",
       "\t2 & Green Lakes Valley & NA\\\\\n",
       "\t3 & Joe Wright & 14.89653\\\\\n",
       "\t4 & Lily Pond & 25.92961\\\\\n",
       "\t5 & Lizard Head & NA\\\\\n",
       "\t6 & Niwot Ridge & 23.96233\\\\\n",
       "\t7 & Slumgullion & 124.9246\\\\\n",
       "\t8 & South Brush Creek & 34.41489\\\\\n",
       "\t9 & Upper San Juan & 7.14885\\\\\n",
       "\t10 & Wolf Creek Summit & 24.57903\\\\\n",
       "\\end{tabular}\n"
      ],
      "text/plain": [
       "                 site bias.pct.sd\n",
       "1            Dry Lake    9.369406\n",
       "2  Green Lakes Valley          NA\n",
       "3          Joe Wright   14.896533\n",
       "4           Lily Pond   25.929606\n",
       "5         Lizard Head          NA\n",
       "6         Niwot Ridge   23.962329\n",
       "7         Slumgullion  124.924555\n",
       "8   South Brush Creek   34.414887\n",
       "9      Upper San Juan    7.148850\n",
       "10  Wolf Creek Summit   24.579032"
      ]
     },
     "execution_count": 16,
     "metadata": {},
     "output_type": "execute_result"
    },
    {
     "data": {
      "text/html": [
       "33.1531496023858"
      ],
      "text/latex": [
       "33.1531496023858"
      ],
      "text/markdown": [
       "33.1531496023858"
      ],
      "text/plain": [
       "[1] 33.15315"
      ]
     },
     "execution_count": 16,
     "metadata": {},
     "output_type": "execute_result"
    }
   ],
   "source": [
    "mb.avg=dcast(meromybias,site~.,value.var='bias.pct',fun.agg=sd,na.rm=T)\n",
    "colnames(mb.avg)=c('site','bias.pct.sd')\n",
    "mb.avg\n",
    "mean(mb.avg$bias.pct.sd,na.rm=T)"
   ]
  },
  {
   "cell_type": "markdown",
   "metadata": {},
   "source": [
    "## subset boxplot for phv and phvrcn"
   ]
  },
  {
   "cell_type": "code",
   "execution_count": 8,
   "metadata": {
    "collapsed": false
   },
   "outputs": [
    {
     "name": "stderr",
     "output_type": "stream",
     "text": [
      "Warning message:\n",
      "In .fun(.value[0], ...): no non-missing arguments to max; returning -Inf"
     ]
    },
    {
     "data": {
      "text/html": [
       "<table>\n",
       "<thead><tr><th></th><th scope=col>date</th><th scope=col>site</th><th scope=col>maxvalue</th></tr></thead>\n",
       "<tbody>\n",
       "\t<tr><th scope=row>1</th><td>2001-04-22</td><td>Slumgullion</td><td>0.5979025</td></tr>\n",
       "\t<tr><th scope=row>2</th><td>2001-04-23</td><td>Upper San Juan</td><td>1.124192</td></tr>\n",
       "\t<tr><th scope=row>3</th><td>2001-04-24</td><td>Wolf Creek Summit</td><td>1.21693</td></tr>\n",
       "\t<tr><th scope=row>4</th><td>2001-04-27</td><td>Lilly Pond</td><td>0.6533065</td></tr>\n",
       "\t<tr><th scope=row>5</th><td>2001-05-09</td><td>Green Lakes Valley</td><td>2.550029</td></tr>\n",
       "\t<tr><th scope=row>6</th><td>2002-04-03</td><td>Lilly Pond</td><td>0.3334324</td></tr>\n",
       "\t<tr><th scope=row>7</th><td>2002-04-04</td><td>Wolf Creek Summit</td><td>0.3815395</td></tr>\n",
       "\t<tr><th scope=row>8</th><td>2002-04-05</td><td>Upper San Juan</td><td>0.3927</td></tr>\n",
       "\t<tr><th scope=row>9</th><td>2002-04-06</td><td>Slumgullion</td><td>0.2560721</td></tr>\n",
       "\t<tr><th scope=row>10</th><td>2002-05-01</td><td>Green Lakes Valley</td><td>1.932437</td></tr>\n",
       "\t<tr><th scope=row>11</th><td>2003-05-14</td><td>Green Lakes Valley</td><td>2.411347</td></tr>\n",
       "\t<tr><th scope=row>12</th><td>2004-05-12</td><td>Green Lakes Valley</td><td>2.455041</td></tr>\n",
       "\t<tr><th scope=row>13</th><td>2005-05-10</td><td>Green Lakes Valley</td><td>2.482809</td></tr>\n",
       "\t<tr><th scope=row>14</th><td>2006-05-11</td><td>Green Lakes Valley</td><td>2.213952</td></tr>\n",
       "\t<tr><th scope=row>15</th><td>2007-05-10</td><td>Green Lakes Valley</td><td>2.410517</td></tr>\n",
       "\t<tr><th scope=row>16</th><td>2008-03-16</td><td>Lizard Head</td><td>0.6936061</td></tr>\n",
       "\t<tr><th scope=row>17</th><td>2008-04-03</td><td>Joe Wright</td><td>1.066992</td></tr>\n",
       "\t<tr><th scope=row>18</th><td>2008-04-04</td><td>Dry Lake</td><td>0.9874527</td></tr>\n",
       "\t<tr><th scope=row>19</th><td>2008-04-05</td><td>South Brush Creek</td><td>0.6264565</td></tr>\n",
       "\t<tr><th scope=row>20</th><td>2008-04-07</td><td>Niwot</td><td>0.939573</td></tr>\n",
       "\t<tr><th scope=row>21</th><td>2008-05-01</td><td>Joe Wright</td><td>1.125003</td></tr>\n",
       "\t<tr><th scope=row>22</th><td>2008-05-02</td><td>Dry Lake</td><td>0.7341833</td></tr>\n",
       "\t<tr><th scope=row>23</th><td>2008-05-05</td><td>Niwot</td><td>0.9201657</td></tr>\n",
       "\t<tr><th scope=row>24</th><td>2009-02-28</td><td>Dry Lake</td><td>0.6513</td></tr>\n",
       "\t<tr><th scope=row>25</th><td>2009-02-28</td><td>Joe Wright</td><td>0.620885</td></tr>\n",
       "\t<tr><th scope=row>26</th><td>2009-03-06</td><td>Niwot</td><td>0.6568151</td></tr>\n",
       "\t<tr><th scope=row>27</th><td>2009-03-28</td><td>Dry Lake</td><td>0.9078411</td></tr>\n",
       "\t<tr><th scope=row>28</th><td>2009-03-29</td><td>South Brush Creek</td><td>0.5445657</td></tr>\n",
       "\t<tr><th scope=row>29</th><td>2009-05-02</td><td>Joe Wright</td><td>1.043565</td></tr>\n",
       "</tbody>\n",
       "</table>\n"
      ],
      "text/latex": [
       "\\begin{tabular}{r|lll}\n",
       "  & date & site & maxvalue\\\\\n",
       "\\hline\n",
       "\t1 & 2001-04-22 & Slumgullion & 0.5979025\\\\\n",
       "\t2 & 2001-04-23 & Upper San Juan & 1.124192\\\\\n",
       "\t3 & 2001-04-24 & Wolf Creek Summit & 1.21693\\\\\n",
       "\t4 & 2001-04-27 & Lilly Pond & 0.6533065\\\\\n",
       "\t5 & 2001-05-09 & Green Lakes Valley & 2.550029\\\\\n",
       "\t6 & 2002-04-03 & Lilly Pond & 0.3334324\\\\\n",
       "\t7 & 2002-04-04 & Wolf Creek Summit & 0.3815395\\\\\n",
       "\t8 & 2002-04-05 & Upper San Juan & 0.3927\\\\\n",
       "\t9 & 2002-04-06 & Slumgullion & 0.2560721\\\\\n",
       "\t10 & 2002-05-01 & Green Lakes Valley & 1.932437\\\\\n",
       "\t11 & 2003-05-14 & Green Lakes Valley & 2.411347\\\\\n",
       "\t12 & 2004-05-12 & Green Lakes Valley & 2.455041\\\\\n",
       "\t13 & 2005-05-10 & Green Lakes Valley & 2.482809\\\\\n",
       "\t14 & 2006-05-11 & Green Lakes Valley & 2.213952\\\\\n",
       "\t15 & 2007-05-10 & Green Lakes Valley & 2.410517\\\\\n",
       "\t16 & 2008-03-16 & Lizard Head & 0.6936061\\\\\n",
       "\t17 & 2008-04-03 & Joe Wright & 1.066992\\\\\n",
       "\t18 & 2008-04-04 & Dry Lake & 0.9874527\\\\\n",
       "\t19 & 2008-04-05 & South Brush Creek & 0.6264565\\\\\n",
       "\t20 & 2008-04-07 & Niwot & 0.939573\\\\\n",
       "\t21 & 2008-05-01 & Joe Wright & 1.125003\\\\\n",
       "\t22 & 2008-05-02 & Dry Lake & 0.7341833\\\\\n",
       "\t23 & 2008-05-05 & Niwot & 0.9201657\\\\\n",
       "\t24 & 2009-02-28 & Dry Lake & 0.6513\\\\\n",
       "\t25 & 2009-02-28 & Joe Wright & 0.620885\\\\\n",
       "\t26 & 2009-03-06 & Niwot & 0.6568151\\\\\n",
       "\t27 & 2009-03-28 & Dry Lake & 0.9078411\\\\\n",
       "\t28 & 2009-03-29 & South Brush Creek & 0.5445657\\\\\n",
       "\t29 & 2009-05-02 & Joe Wright & 1.043565\\\\\n",
       "\\end{tabular}\n"
      ],
      "text/plain": [
       "         date               site  maxvalue\n",
       "1  2001-04-22        Slumgullion 0.5979025\n",
       "2  2001-04-23     Upper San Juan 1.1241921\n",
       "3  2001-04-24  Wolf Creek Summit 1.2169300\n",
       "4  2001-04-27         Lilly Pond 0.6533065\n",
       "5  2001-05-09 Green Lakes Valley 2.5500289\n",
       "6  2002-04-03         Lilly Pond 0.3334324\n",
       "7  2002-04-04  Wolf Creek Summit 0.3815395\n",
       "8  2002-04-05     Upper San Juan 0.3927000\n",
       "9  2002-04-06        Slumgullion 0.2560721\n",
       "10 2002-05-01 Green Lakes Valley 1.9324371\n",
       "11 2003-05-14 Green Lakes Valley 2.4113470\n",
       "12 2004-05-12 Green Lakes Valley 2.4550413\n",
       "13 2005-05-10 Green Lakes Valley 2.4828094\n",
       "14 2006-05-11 Green Lakes Valley 2.2139517\n",
       "15 2007-05-10 Green Lakes Valley 2.4105169\n",
       "16 2008-03-16        Lizard Head 0.6936061\n",
       "17 2008-04-03         Joe Wright 1.0669924\n",
       "18 2008-04-04           Dry Lake 0.9874527\n",
       "19 2008-04-05  South Brush Creek 0.6264565\n",
       "20 2008-04-07              Niwot 0.9395730\n",
       "21 2008-05-01         Joe Wright 1.1250026\n",
       "22 2008-05-02           Dry Lake 0.7341833\n",
       "23 2008-05-05              Niwot 0.9201657\n",
       "24 2009-02-28           Dry Lake 0.6513000\n",
       "25 2009-02-28         Joe Wright 0.6208850\n",
       "26 2009-03-06              Niwot 0.6568151\n",
       "27 2009-03-28           Dry Lake 0.9078411\n",
       "28 2009-03-29  South Brush Creek 0.5445657\n",
       "29 2009-05-02         Joe Wright 1.0435648"
      ]
     },
     "execution_count": 8,
     "metadata": {},
     "output_type": "execute_result"
    }
   ],
   "source": [
    "sweboxplot=subset(sweboxplot,source!='RCN' & source!='SNODAS')\n",
    "sweboxplot_max=ddply(sweboxplot,.(date,site,source),summarise,maxswe=max(swe,na.rm=T))\n",
    "sweboxplot_max=dcast(sweboxplot_max,date+site~.,value.var='maxswe',fun.agg=max)\n",
    "colnames(sweboxplot_max)=c('date','site','maxvalue')\n",
    "sweboxplot_max"
   ]
  },
  {
   "cell_type": "code",
   "execution_count": 9,
   "metadata": {
    "collapsed": false,
    "scrolled": false
   },
   "outputs": [
    {
     "data": {
      "text/html": [
       "<table>\n",
       "<thead><tr><th></th><th scope=col>date</th><th scope=col>site</th><th scope=col>PHV</th><th scope=col>PHVRCN</th><th scope=col>best</th><th scope=col>maxvalue</th></tr></thead>\n",
       "<tbody>\n",
       "\t<tr><th scope=row>1</th><td>2001-04-22</td><td>Slumgullion</td><td>0.12128</td><td>0.08658502</td><td>PHVRCN</td><td>0.5979025</td></tr>\n",
       "\t<tr><th scope=row>2</th><td>2001-04-23</td><td>Upper San Juan</td><td>0.5203588</td><td>0.498383</td><td>PHVRCN</td><td>1.124192</td></tr>\n",
       "\t<tr><th scope=row>3</th><td>2001-04-24</td><td>Wolf Creek Summit</td><td>0.5357515</td><td>0.5253963</td><td>PHVRCN</td><td>1.21693</td></tr>\n",
       "\t<tr><th scope=row>4</th><td>2001-04-27</td><td>Lilly Pond</td><td>0.08856758</td><td>0.08636199</td><td>PHVRCN</td><td>0.6533065</td></tr>\n",
       "\t<tr><th scope=row>5</th><td>2001-05-09</td><td>Green Lakes Valley</td><td>0.504694</td><td>0.3940884</td><td>PHVRCN</td><td>2.550029</td></tr>\n",
       "\t<tr><th scope=row>6</th><td>2002-04-03</td><td>Lilly Pond</td><td>0.0769256</td><td>0.06604929</td><td>PHVRCN</td><td>0.3334324</td></tr>\n",
       "\t<tr><th scope=row>7</th><td>2002-04-04</td><td>Wolf Creek Summit</td><td>0.09545299</td><td>0.08414643</td><td>PHVRCN</td><td>0.3815395</td></tr>\n",
       "\t<tr><th scope=row>8</th><td>2002-04-05</td><td>Upper San Juan</td><td>0.08945094</td><td>0.08466052</td><td>PHVRCN</td><td>0.3927</td></tr>\n",
       "\t<tr><th scope=row>9</th><td>2002-04-06</td><td>Slumgullion</td><td>0.0707823</td><td>0.06675564</td><td>PHVRCN</td><td>0.2560721</td></tr>\n",
       "\t<tr><th scope=row>10</th><td>2002-05-01</td><td>Green Lakes Valley</td><td>0.4230336</td><td>0.3463965</td><td>PHVRCN</td><td>1.932437</td></tr>\n",
       "\t<tr><th scope=row>11</th><td>2003-05-14</td><td>Green Lakes Valley</td><td>0.5145647</td><td>0.3654406</td><td>PHVRCN</td><td>2.411347</td></tr>\n",
       "\t<tr><th scope=row>12</th><td>2004-05-12</td><td>Green Lakes Valley</td><td>0.6042337</td><td>0.4517204</td><td>PHVRCN</td><td>2.455041</td></tr>\n",
       "\t<tr><th scope=row>13</th><td>2005-05-10</td><td>Green Lakes Valley</td><td>0.3708929</td><td>0.41257</td><td>PHV</td><td>2.482809</td></tr>\n",
       "\t<tr><th scope=row>14</th><td>2006-05-11</td><td>Green Lakes Valley</td><td>0.4176651</td><td>0.5244575</td><td>PHV</td><td>2.213952</td></tr>\n",
       "\t<tr><th scope=row>15</th><td>2007-05-10</td><td>Green Lakes Valley</td><td>0.4694393</td><td>0.3525443</td><td>PHVRCN</td><td>2.410517</td></tr>\n",
       "\t<tr><th scope=row>16</th><td>2008-03-16</td><td>Lizard Head</td><td>0.2333245</td><td>0.2385505</td><td>PHV</td><td>0.6936061</td></tr>\n",
       "\t<tr><th scope=row>17</th><td>2008-04-03</td><td>Joe Wright</td><td>0.1853016</td><td>0.2390288</td><td>PHV</td><td>1.066992</td></tr>\n",
       "\t<tr><th scope=row>18</th><td>2008-04-04</td><td>Dry Lake</td><td>0.1173328</td><td>0.1115783</td><td>PHVRCN</td><td>0.9874527</td></tr>\n",
       "\t<tr><th scope=row>19</th><td>2008-04-05</td><td>South Brush Creek</td><td>0.2058058</td><td>0.1195077</td><td>PHVRCN</td><td>0.6264565</td></tr>\n",
       "\t<tr><th scope=row>20</th><td>2008-04-07</td><td>Niwot</td><td>0.2039005</td><td>0.183872</td><td>PHVRCN</td><td>0.939573</td></tr>\n",
       "\t<tr><th scope=row>21</th><td>2008-05-01</td><td>Joe Wright</td><td>0.1832637</td><td>0.2057</td><td>PHV</td><td>1.125003</td></tr>\n",
       "\t<tr><th scope=row>22</th><td>2008-05-02</td><td>Dry Lake</td><td>0.2466257</td><td>0.2583524</td><td>PHV</td><td>0.7341833</td></tr>\n",
       "\t<tr><th scope=row>23</th><td>2008-05-05</td><td>Niwot</td><td>0.2213936</td><td>0.2258589</td><td>PHV</td><td>0.9201657</td></tr>\n",
       "\t<tr><th scope=row>24</th><td>2009-02-28</td><td>Dry Lake</td><td>0.1567055</td><td>0.1466553</td><td>PHVRCN</td><td>0.6513</td></tr>\n",
       "\t<tr><th scope=row>25</th><td>2009-02-28</td><td>Joe Wright</td><td>0.07876869</td><td>0.1057364</td><td>PHV</td><td>0.620885</td></tr>\n",
       "\t<tr><th scope=row>26</th><td>2009-03-06</td><td>Niwot</td><td>0.1915332</td><td>0.1964161</td><td>PHV</td><td>0.6568151</td></tr>\n",
       "\t<tr><th scope=row>27</th><td>2009-03-28</td><td>Dry Lake</td><td>0.1289318</td><td>0.1319212</td><td>PHV</td><td>0.9078411</td></tr>\n",
       "\t<tr><th scope=row>28</th><td>2009-03-29</td><td>South Brush Creek</td><td>0.1262414</td><td>0.03829531</td><td>PHVRCN</td><td>0.5445657</td></tr>\n",
       "\t<tr><th scope=row>29</th><td>2009-05-02</td><td>Joe Wright</td><td>0.1952111</td><td>0.1917684</td><td>PHVRCN</td><td>1.043565</td></tr>\n",
       "</tbody>\n",
       "</table>\n"
      ],
      "text/latex": [
       "\\begin{tabular}{r|llllll}\n",
       "  & date & site & PHV & PHVRCN & best & maxvalue\\\\\n",
       "\\hline\n",
       "\t1 & 2001-04-22 & Slumgullion & 0.12128 & 0.08658502 & PHVRCN & 0.5979025\\\\\n",
       "\t2 & 2001-04-23 & Upper San Juan & 0.5203588 & 0.498383 & PHVRCN & 1.124192\\\\\n",
       "\t3 & 2001-04-24 & Wolf Creek Summit & 0.5357515 & 0.5253963 & PHVRCN & 1.21693\\\\\n",
       "\t4 & 2001-04-27 & Lilly Pond & 0.08856758 & 0.08636199 & PHVRCN & 0.6533065\\\\\n",
       "\t5 & 2001-05-09 & Green Lakes Valley & 0.504694 & 0.3940884 & PHVRCN & 2.550029\\\\\n",
       "\t6 & 2002-04-03 & Lilly Pond & 0.0769256 & 0.06604929 & PHVRCN & 0.3334324\\\\\n",
       "\t7 & 2002-04-04 & Wolf Creek Summit & 0.09545299 & 0.08414643 & PHVRCN & 0.3815395\\\\\n",
       "\t8 & 2002-04-05 & Upper San Juan & 0.08945094 & 0.08466052 & PHVRCN & 0.3927\\\\\n",
       "\t9 & 2002-04-06 & Slumgullion & 0.0707823 & 0.06675564 & PHVRCN & 0.2560721\\\\\n",
       "\t10 & 2002-05-01 & Green Lakes Valley & 0.4230336 & 0.3463965 & PHVRCN & 1.932437\\\\\n",
       "\t11 & 2003-05-14 & Green Lakes Valley & 0.5145647 & 0.3654406 & PHVRCN & 2.411347\\\\\n",
       "\t12 & 2004-05-12 & Green Lakes Valley & 0.6042337 & 0.4517204 & PHVRCN & 2.455041\\\\\n",
       "\t13 & 2005-05-10 & Green Lakes Valley & 0.3708929 & 0.41257 & PHV & 2.482809\\\\\n",
       "\t14 & 2006-05-11 & Green Lakes Valley & 0.4176651 & 0.5244575 & PHV & 2.213952\\\\\n",
       "\t15 & 2007-05-10 & Green Lakes Valley & 0.4694393 & 0.3525443 & PHVRCN & 2.410517\\\\\n",
       "\t16 & 2008-03-16 & Lizard Head & 0.2333245 & 0.2385505 & PHV & 0.6936061\\\\\n",
       "\t17 & 2008-04-03 & Joe Wright & 0.1853016 & 0.2390288 & PHV & 1.066992\\\\\n",
       "\t18 & 2008-04-04 & Dry Lake & 0.1173328 & 0.1115783 & PHVRCN & 0.9874527\\\\\n",
       "\t19 & 2008-04-05 & South Brush Creek & 0.2058058 & 0.1195077 & PHVRCN & 0.6264565\\\\\n",
       "\t20 & 2008-04-07 & Niwot & 0.2039005 & 0.183872 & PHVRCN & 0.939573\\\\\n",
       "\t21 & 2008-05-01 & Joe Wright & 0.1832637 & 0.2057 & PHV & 1.125003\\\\\n",
       "\t22 & 2008-05-02 & Dry Lake & 0.2466257 & 0.2583524 & PHV & 0.7341833\\\\\n",
       "\t23 & 2008-05-05 & Niwot & 0.2213936 & 0.2258589 & PHV & 0.9201657\\\\\n",
       "\t24 & 2009-02-28 & Dry Lake & 0.1567055 & 0.1466553 & PHVRCN & 0.6513\\\\\n",
       "\t25 & 2009-02-28 & Joe Wright & 0.07876869 & 0.1057364 & PHV & 0.620885\\\\\n",
       "\t26 & 2009-03-06 & Niwot & 0.1915332 & 0.1964161 & PHV & 0.6568151\\\\\n",
       "\t27 & 2009-03-28 & Dry Lake & 0.1289318 & 0.1319212 & PHV & 0.9078411\\\\\n",
       "\t28 & 2009-03-29 & South Brush Creek & 0.1262414 & 0.03829531 & PHVRCN & 0.5445657\\\\\n",
       "\t29 & 2009-05-02 & Joe Wright & 0.1952111 & 0.1917684 & PHVRCN & 1.043565\\\\\n",
       "\\end{tabular}\n"
      ],
      "text/plain": [
       "         date               site        PHV     PHVRCN   best  maxvalue\n",
       "1  2001-04-22        Slumgullion 0.12128001 0.08658502 PHVRCN 0.5979025\n",
       "2  2001-04-23     Upper San Juan 0.52035885 0.49838301 PHVRCN 1.1241921\n",
       "3  2001-04-24  Wolf Creek Summit 0.53575155 0.52539635 PHVRCN 1.2169300\n",
       "4  2001-04-27         Lilly Pond 0.08856758 0.08636199 PHVRCN 0.6533065\n",
       "5  2001-05-09 Green Lakes Valley 0.50469404 0.39408841 PHVRCN 2.5500289\n",
       "6  2002-04-03         Lilly Pond 0.07692560 0.06604929 PHVRCN 0.3334324\n",
       "7  2002-04-04  Wolf Creek Summit 0.09545299 0.08414643 PHVRCN 0.3815395\n",
       "8  2002-04-05     Upper San Juan 0.08945094 0.08466052 PHVRCN 0.3927000\n",
       "9  2002-04-06        Slumgullion 0.07078230 0.06675564 PHVRCN 0.2560721\n",
       "10 2002-05-01 Green Lakes Valley 0.42303357 0.34639645 PHVRCN 1.9324371\n",
       "11 2003-05-14 Green Lakes Valley 0.51456468 0.36544061 PHVRCN 2.4113470\n",
       "12 2004-05-12 Green Lakes Valley 0.60423370 0.45172040 PHVRCN 2.4550413\n",
       "13 2005-05-10 Green Lakes Valley 0.37089295 0.41257005    PHV 2.4828094\n",
       "14 2006-05-11 Green Lakes Valley 0.41766512 0.52445752    PHV 2.2139517\n",
       "15 2007-05-10 Green Lakes Valley 0.46943933 0.35254430 PHVRCN 2.4105169\n",
       "16 2008-03-16        Lizard Head 0.23332453 0.23855049    PHV 0.6936061\n",
       "17 2008-04-03         Joe Wright 0.18530163 0.23902880    PHV 1.0669924\n",
       "18 2008-04-04           Dry Lake 0.11733282 0.11157832 PHVRCN 0.9874527\n",
       "19 2008-04-05  South Brush Creek 0.20580578 0.11950774 PHVRCN 0.6264565\n",
       "20 2008-04-07              Niwot 0.20390052 0.18387199 PHVRCN 0.9395730\n",
       "21 2008-05-01         Joe Wright 0.18326369 0.20569997    PHV 1.1250026\n",
       "22 2008-05-02           Dry Lake 0.24662569 0.25835235    PHV 0.7341833\n",
       "23 2008-05-05              Niwot 0.22139359 0.22585891    PHV 0.9201657\n",
       "24 2009-02-28           Dry Lake 0.15670550 0.14665530 PHVRCN 0.6513000\n",
       "25 2009-02-28         Joe Wright 0.07876869 0.10573644    PHV 0.6208850\n",
       "26 2009-03-06              Niwot 0.19153319 0.19641614    PHV 0.6568151\n",
       "27 2009-03-28           Dry Lake 0.12893183 0.13192116    PHV 0.9078411\n",
       "28 2009-03-29  South Brush Creek 0.12624139 0.03829531 PHVRCN 0.5445657\n",
       "29 2009-05-02         Joe Wright 0.19521111 0.19176840 PHVRCN 1.0435648"
      ]
     },
     "execution_count": 9,
     "metadata": {},
     "output_type": "execute_result"
    },
    {
     "ename": "ERROR",
     "evalue": "Error in eval(expr, envir, enclos): object 'meromybias' not found\n",
     "output_type": "error",
     "traceback": [
      "Error in eval(expr, envir, enclos): object 'meromybias' not found\n"
     ]
    }
   ],
   "source": [
    "sweavg=subset(sweavg,source!='RCN' & source!='SNODAS')\n",
    "sweerror=subset(sweerror,source!='RCN' & source!='SNODAS')\n",
    "sweerror=arrange(sweerror,source,date,site)\n",
    "sweerrorbest=dcast(sweerror,date+site~source,value.var='objcost')\n",
    "sweerrorbest$best=ifelse(sweerrorbest$PHV>sweerrorbest$PHVRCN,'PHVRCN','PHV')\n",
    "sweerrorbest=merge(sweerrorbest,sweboxplot_max,by=c('date','site'))\n",
    "sweerrorbest\n",
    "sweerror$snotelbias=meromybias$bias.pct\n",
    "# sweerror\n",
    "# dcast(sweerror,source~.,value.var='objcost',fun.agg=mean,na.rm=T)"
   ]
  },
  {
   "cell_type": "code",
   "execution_count": 10,
   "metadata": {
    "collapsed": false,
    "scrolled": false
   },
   "outputs": [],
   "source": [
    "options(repr.plot.width = 18.6, repr.plot.height = 10.1, jupyter.plot_mimetypes = 'image/png')\n",
    "mypal=c(brewer.pal(9,'Set1'),'#000000')\n",
    "g=ggplot()+\n",
    "    geom_boxplot(data=sweboxplot,aes(x=source,y=swe),outlier.shape=NA)+\n",
    "    geom_point(data=sweavg,aes(x=source,y=avg,colour=site),size=3)+\n",
    "    geom_point(data=sweerror,aes(x=source,y=objcost,colour=site),shape=4,size=3)+\n",
    "    scale_x_discrete(labels=c('OBS','PHV-baseline','PHV-RCN'))+\n",
    "    scale_colour_manual(values=mypal)+\n",
    "    geom_text(data=sweerrorbest,aes(x=best,y=(maxvalue-0.05),label='*'))+\n",
    "#     geom_text(data=meromybias,aes(x=1,y=0.05,label=bias.pct),size=4)+\n",
    "    labs(x='',y='SWE (m)')+#,title=paste(rswe,covrange,scalesnotel,fscaMatch))+\n",
    "    guides(colour=guide_legend('Site',ncol=2,override.aes=list(shape=19,size=5)))+\n",
    "    theme_minimal()+\n",
    "    expand_limits(y=0)+\n",
    "    facet_wrap(~date+site,scales='free_y')+\n",
    "    expand_limits(y=0)+\n",
    "    theme(legend.position=c(1,-.01),\n",
    "          legend.justification=c(1,0),\n",
    "          legend.text=element_text(size=8),\n",
    "          strip.text=element_text(face='bold'), \n",
    "          axis.line=element_line(size=.5),\n",
    "          panel.border=element_rect(fill=NA,colour='grey50'))"
   ]
  },
  {
   "cell_type": "code",
   "execution_count": 11,
   "metadata": {
    "collapsed": false,
    "scrolled": false
   },
   "outputs": [
    {
     "name": "stderr",
     "output_type": "stream",
     "text": [
      "Warning message:\n",
      ": Removed 10 rows containing non-finite values (stat_boxplot).Warning message:\n",
      ": Removed 12 rows containing non-finite values (stat_boxplot).Warning message:\n",
      ": Removed 829 rows containing non-finite values (stat_boxplot).Warning message:\n",
      ": Removed 1645 rows containing non-finite values (stat_boxplot).Warning message:\n",
      ": Removed 57298 rows containing non-finite values (stat_boxplot).Warning message:\n",
      ": Removed 3142 rows containing non-finite values (stat_boxplot).Warning message:\n",
      ": Removed 829 rows containing non-finite values (stat_boxplot).Warning message:\n",
      ": Removed 12 rows containing non-finite values (stat_boxplot).Warning message:\n",
      ": Removed 505 rows containing non-finite values (stat_boxplot).Warning message:\n",
      ": Removed 57298 rows containing non-finite values (stat_boxplot).Warning message:\n",
      ": Removed 57298 rows containing non-finite values (stat_boxplot).Warning message:\n",
      ": Removed 57298 rows containing non-finite values (stat_boxplot).Warning message:\n",
      ": Removed 57298 rows containing non-finite values (stat_boxplot).Warning message:\n",
      ": Removed 57298 rows containing non-finite values (stat_boxplot).Warning message:\n",
      ": Removed 57298 rows containing non-finite values (stat_boxplot).Warning message:\n",
      ": Removed 22144 rows containing non-finite values (stat_boxplot).Warning message:\n",
      ": Removed 1111 rows containing non-finite values (stat_boxplot).Warning message:\n",
      ": Removed 3 rows containing non-finite values (stat_boxplot).Warning message:\n",
      ": Removed 365 rows containing non-finite values (stat_boxplot).Warning message:\n",
      ": Removed 240 rows containing non-finite values (stat_boxplot).Warning message:\n",
      ": Removed 1111 rows containing non-finite values (stat_boxplot).Warning message:\n",
      ": Removed 3 rows containing non-finite values (stat_boxplot).Warning message:\n",
      ": Removed 240 rows containing non-finite values (stat_boxplot).Warning message:\n",
      ": Removed 3 rows containing non-finite values (stat_boxplot).Warning message:\n",
      ": Removed 1111 rows containing non-finite values (stat_boxplot).Warning message:\n",
      ": Removed 240 rows containing non-finite values (stat_boxplot).Warning message:\n",
      ": Removed 3 rows containing non-finite values (stat_boxplot).Warning message:\n",
      ": Removed 895 rows containing non-finite values (stat_boxplot).Warning message:\n",
      ": Removed 1111 rows containing non-finite values (stat_boxplot).Warning message:\n",
      ": Removed 1540 rows containing missing values (geom_point).Warning message:\n",
      ": Removed 5852 rows containing missing values (geom_point).Warning message:\n",
      ": Removed 1938 rows containing missing values (geom_point).Warning message:\n",
      ": Removed 884 rows containing missing values (geom_point).Warning message:\n",
      ": Removed 597 rows containing missing values (geom_point).Warning message:\n",
      ": Removed 7368 rows containing missing values (geom_point).Warning message:\n",
      ": Removed 618 rows containing missing values (geom_point).Warning message:\n",
      ": Removed 618 rows containing missing values (geom_point).Warning message:\n",
      ": Removed 380 rows containing missing values (geom_point).Warning message:\n",
      ": Removed 240 rows containing missing values (geom_point).Warning message:\n",
      ": Removed 198 rows containing missing values (geom_point).Warning message:\n",
      ": Removed 620 rows containing missing values (geom_point).Warning message:\n",
      ": Removed 620 rows containing missing values (geom_point).Warning message:\n",
      ": Removed 344 rows containing missing values (geom_point).Warning message:\n",
      ": Removed 1655 rows containing missing values (geom_point).Warning message:\n",
      ": Removed 25077 rows containing missing values (geom_point).Warning message:\n",
      ": Removed 2554 rows containing missing values (geom_point).Warning message:\n",
      ": Removed 3129 rows containing missing values (geom_point).Warning message:\n",
      ": Removed 32 rows containing missing values (geom_point).Warning message:\n",
      ": Removed 240 rows containing missing values (geom_point).Warning message:\n",
      ": Removed 484 rows containing missing values (geom_point).Warning message:\n",
      ": Removed 240 rows containing missing values (geom_point).Warning message:\n",
      ": Removed 256 rows containing missing values (geom_point).Warning message:\n",
      ": Removed 420 rows containing missing values (geom_point).Warning message:\n",
      ": Removed 1068 rows containing missing values (geom_point).Warning message:\n",
      ": Removed 232 rows containing missing values (geom_point).Warning message:\n",
      ": Removed 528 rows containing missing values (geom_point).Warning message:\n",
      ": Removed 120 rows containing missing values (geom_point).Warning message:\n",
      ": Removed 576 rows containing missing values (geom_point).Warning message:\n",
      ": Removed 400 rows containing missing values (geom_point).Warning message:\n",
      ": Removed 120 rows containing missing values (geom_point).Warning message:\n",
      ": Removed 724 rows containing missing values (geom_point).Warning message:\n",
      ": Removed 1947 rows containing missing values (geom_point).Warning message:\n",
      ": Removed 1972 rows containing missing values (geom_point).Warning message:\n",
      ": Removed 632 rows containing missing values (geom_point).Warning message:\n",
      ": Removed 1106 rows containing missing values (geom_point).Warning message:\n",
      ": Removed 333 rows containing missing values (geom_point).Warning message:\n",
      ": Removed 17057 rows containing missing values (geom_point).Warning message:\n",
      ": Removed 1811 rows containing missing values (geom_point).Warning message:\n",
      ": Removed 1924 rows containing missing values (geom_point).Warning message:\n",
      ": Removed 7472 rows containing missing values (geom_point).Warning message:\n",
      ": Removed 1328 rows containing missing values (geom_point).Warning message:\n",
      ": Removed 2681 rows containing missing values (geom_point).Warning message:\n",
      ": Removed 848 rows containing missing values (geom_point).Warning message:\n",
      ": Removed 381 rows containing missing values (geom_point).Warning message:\n",
      ": Removed 8284 rows containing missing values (geom_point).Warning message:\n",
      ": Removed 964 rows containing missing values (geom_point).Warning message:\n",
      ": Removed 2996 rows containing missing values (geom_point).Warning message:\n",
      ": Removed 321 rows containing missing values (geom_point).Warning message:\n",
      ": Removed 22788 rows containing missing values (geom_point).Warning message:\n",
      ": Removed 72 rows containing missing values (geom_point).Warning message:\n",
      ": Removed 654 rows containing missing values (geom_point).Warning message:\n",
      ": Removed 333 rows containing missing values (geom_point).Warning message:\n",
      ": Removed 1638 rows containing missing values (geom_point).Warning message:\n",
      ": Removed 2463 rows containing missing values (geom_point).Warning message:\n",
      ": Removed 516 rows containing missing values (geom_point).Warning message:\n",
      ": Removed 608 rows containing missing values (geom_point).Warning message:\n",
      ": Removed 626 rows containing missing values (geom_point)."
     ]
    }
   ],
   "source": [
    "ggsave(plot=g,paste0('graphs/rswe_',rswe,'/covrange',covrange,'/snotel',scalesnotel,'/',dateflag,'/',fscaMatch,'/',style,'/boxplot_',blending,'models_vs_griddedobs_facet_datesite_',cost,'-rcnselect_noRCN_TEST.pdf'),width=18.6,height=10.1)"
   ]
  },
  {
   "cell_type": "code",
   "execution_count": 68,
   "metadata": {
    "collapsed": false,
    "scrolled": false
   },
   "outputs": [
    {
     "name": "stderr",
     "output_type": "stream",
     "text": [
      "Warning message:\n",
      ": Removed 7 rows containing missing values (geom_point).Warning message:\n",
      ": Removed 7 rows containing missing values (geom_point)."
     ]
    },
    {
     "data": {
      "image/png": "[encoded data removed]"
     },
     "metadata": {},
     "output_type": "display_data"
    }
   ],
   "source": [
    "##plot error vs bias\n",
    "options(repr.plot.width = 18.6, repr.plot.height = 10.1, jupyter.plot_mimetypes = 'image/png')\n",
    "mypal=c(brewer.pal(9,'Set1'),'#000000')\n",
    "ggplot(sweerror)+\n",
    "    geom_point(aes(snotelbias,objcost,colour=site),size=5)+\n",
    "    scale_colour_manual(values=mypal,drop=TRUE)+\n",
    "    coord_fixed(ratio=1000,ylim=c(0,0.3))+\n",
    "    facet_wrap(~source)+\n",
    "    theme_bw(base_size=24)"
   ]
  },
  {
   "cell_type": "code",
   "execution_count": null,
   "metadata": {
    "collapsed": true
   },
   "outputs": [],
   "source": []
  }
 ],
 "metadata": {
  "kernelspec": {
   "display_name": "R",
   "language": "R",
   "name": "ir"
  },
  "language_info": {
   "codemirror_mode": "r",
   "file_extension": ".r",
   "mimetype": "text/x-r-source",
   "name": "R",
   "pygments_lexer": "r",
   "version": "3.2.2"
  }
 },
 "nbformat": 4,
 "nbformat_minor": 0
}
